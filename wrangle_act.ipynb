{
 "cells": [
  {
   "cell_type": "markdown",
   "id": "920dbaf4",
   "metadata": {},
   "source": [
    "## Data Gathering"
   ]
  },
  {
   "cell_type": "code",
   "execution_count": 2,
   "id": "3acdfbce",
   "metadata": {},
   "outputs": [],
   "source": [
    "import pandas as pd\n",
    "import numpy as np\n",
    "import requests as re\n",
    "import os\n",
    "folder_name = 'Project_2_Udacity'\n",
    "if not os.path.exists(folder_name):\n",
    "    os.makedirs(folder_name)\n",
    "    \n",
    "url ='https://d17h27t6h515a5.cloudfront.net/topher/2017/August/599fd2ad_image-predictions/image-predictions.tsv'\n",
    "response = re.get(url)\n"
   ]
  },
  {
   "cell_type": "code",
   "execution_count": 3,
   "id": "6dd173db",
   "metadata": {},
   "outputs": [
    {
     "data": {
      "text/plain": [
       "<Response [200]>"
      ]
     },
     "execution_count": 3,
     "metadata": {},
     "output_type": "execute_result"
    }
   ],
   "source": [
    "#verifying if the operation was successful\n",
    "response"
   ]
  },
  {
   "cell_type": "code",
   "execution_count": 4,
   "id": "2aa3617e",
   "metadata": {},
   "outputs": [],
   "source": [
    "#opening the file\n",
    "with open(os.path.join(folder_name,url.split('/')[-1]),mode = 'wb') as file:\n",
    "    file.write(response.content)"
   ]
  },
  {
   "cell_type": "code",
   "execution_count": 5,
   "id": "e0d94399",
   "metadata": {},
   "outputs": [
    {
     "data": {
      "text/plain": [
       "['image-predictions.tsv']"
      ]
     },
     "execution_count": 5,
     "metadata": {},
     "output_type": "execute_result"
    }
   ],
   "source": [
    "#crosschecking folder content\n",
    "os.listdir(folder_name)"
   ]
  },
  {
   "cell_type": "code",
   "execution_count": 6,
   "id": "c4685b05",
   "metadata": {},
   "outputs": [],
   "source": [
    "image_predictions_df = pd.read_csv('image-predictions.tsv', sep = '\\t')\n",
    "twitter_archive_df =  pd.read_csv('twitter-archive-enhanced.csv')"
   ]
  },
  {
   "cell_type": "markdown",
   "id": "c32efce5",
   "metadata": {},
   "source": [
    "import tweepy\n",
    "from tweepy import OAuthHandler\n",
    "import json\n",
    "from timeit import default_timer as timer\n",
    "\n",
    "#### Query Twitter API for each tweet in the Twitter archive and save JSON in a text file\n",
    "#### These are hidden to comply with Twitter's API terms and conditions\n",
    "consumer_key = 'HIDDEN'\n",
    "consumer_secret = 'HIDDEN'\n",
    "access_token = 'HIDDEN'\n",
    "access_secret = 'HIDDEN'\n",
    "\n",
    "auth = OAuthHandler(consumer_key, consumer_secret)\n",
    "auth.set_access_token(access_token, access_secret)\n",
    "\n",
    "api = tweepy.API(auth, wait_on_rate_limit=True)\n",
    "\n",
    "#### NOTE TO STUDENT WITH MOBILE VERIFICATION ISSUES:\n",
    "#### df_1 is a DataFrame with the twitter_archive_enhanced.csv file. You may have to\n",
    "#### change line 17 to match the name of your DataFrame with twitter_archive_enhanced.csv\n",
    "#### NOTE TO REVIEWER: this student had mobile verification issues so the following\n",
    "#### Twitter API code was sent to this student from a Udacity instructor\n",
    "#### Tweet IDs for which to gather additional data via Twitter's API\n",
    "tweet_ids = twitter_archive_df.tweet_id.values\n",
    "len(tweet_ids)\n",
    "\n",
    "#### Query Twitter's API for JSON data for each tweet ID in the Twitter archive\n",
    "count = 0\n",
    "fails_dict = {}\n",
    "start = timer()\n",
    "#### Save each tweet's returned JSON as a new line in a .txt file\n",
    "with open('tweet_json.txt', 'w') as outfile:\n",
    "    # This loop will likely take 20-30 minutes to run because of Twitter's rate limit\n",
    "    for tweet_id in tweet_ids:\n",
    "        count += 1\n",
    "        print(str(count) + \": \" + str(tweet_id))\n",
    "        try:\n",
    "            tweet = api.get_status(tweet_id, tweet_mode='extended')\n",
    "            print(\"Success\")\n",
    "            json.dump(tweet._json, outfile)\n",
    "            outfile.write('\\n')\n",
    "        except tweepy.errors.TweepyException as e:\n",
    "            print(\"Fail\")\n",
    "            fails_dict[tweet_id] = e\n",
    "            pass\n",
    "end = timer()\n",
    "print(end - start)\n",
    "print(fails_dict)"
   ]
  },
  {
   "cell_type": "code",
   "execution_count": 45,
   "id": "a7aa6b99",
   "metadata": {},
   "outputs": [],
   "source": [
    "tweet_json_df = pd.read_json('tweet-json.txt', lines=True)"
   ]
  },
  {
   "cell_type": "code",
   "execution_count": 46,
   "id": "af3d59cb",
   "metadata": {},
   "outputs": [
    {
     "name": "stdout",
     "output_type": "stream",
     "text": [
      "<class 'pandas.core.frame.DataFrame'>\n",
      "RangeIndex: 2354 entries, 0 to 2353\n",
      "Data columns (total 31 columns):\n",
      " #   Column                         Non-Null Count  Dtype              \n",
      "---  ------                         --------------  -----              \n",
      " 0   created_at                     2354 non-null   datetime64[ns, UTC]\n",
      " 1   id                             2354 non-null   int64              \n",
      " 2   id_str                         2354 non-null   int64              \n",
      " 3   full_text                      2354 non-null   object             \n",
      " 4   truncated                      2354 non-null   bool               \n",
      " 5   display_text_range             2354 non-null   object             \n",
      " 6   entities                       2354 non-null   object             \n",
      " 7   extended_entities              2073 non-null   object             \n",
      " 8   source                         2354 non-null   object             \n",
      " 9   in_reply_to_status_id          78 non-null     float64            \n",
      " 10  in_reply_to_status_id_str      78 non-null     float64            \n",
      " 11  in_reply_to_user_id            78 non-null     float64            \n",
      " 12  in_reply_to_user_id_str        78 non-null     float64            \n",
      " 13  in_reply_to_screen_name        78 non-null     object             \n",
      " 14  user                           2354 non-null   object             \n",
      " 15  geo                            0 non-null      float64            \n",
      " 16  coordinates                    0 non-null      float64            \n",
      " 17  place                          1 non-null      object             \n",
      " 18  contributors                   0 non-null      float64            \n",
      " 19  is_quote_status                2354 non-null   bool               \n",
      " 20  retweet_count                  2354 non-null   int64              \n",
      " 21  favorite_count                 2354 non-null   int64              \n",
      " 22  favorited                      2354 non-null   bool               \n",
      " 23  retweeted                      2354 non-null   bool               \n",
      " 24  possibly_sensitive             2211 non-null   float64            \n",
      " 25  possibly_sensitive_appealable  2211 non-null   float64            \n",
      " 26  lang                           2354 non-null   object             \n",
      " 27  retweeted_status               179 non-null    object             \n",
      " 28  quoted_status_id               29 non-null     float64            \n",
      " 29  quoted_status_id_str           29 non-null     float64            \n",
      " 30  quoted_status                  28 non-null     object             \n",
      "dtypes: bool(4), datetime64[ns, UTC](1), float64(11), int64(4), object(11)\n",
      "memory usage: 505.9+ KB\n"
     ]
    }
   ],
   "source": [
    "tweet_json_df.info()"
   ]
  },
  {
   "cell_type": "markdown",
   "id": "5bef4f02",
   "metadata": {},
   "source": [
    "## Data Assessment"
   ]
  },
  {
   "cell_type": "markdown",
   "id": "d4f228a4",
   "metadata": {},
   "source": [
    "### a) Visual Assessment"
   ]
  },
  {
   "cell_type": "code",
   "execution_count": 47,
   "id": "b0452296",
   "metadata": {},
   "outputs": [
    {
     "data": {
      "text/html": [
       "<div>\n",
       "<style scoped>\n",
       "    .dataframe tbody tr th:only-of-type {\n",
       "        vertical-align: middle;\n",
       "    }\n",
       "\n",
       "    .dataframe tbody tr th {\n",
       "        vertical-align: top;\n",
       "    }\n",
       "\n",
       "    .dataframe thead th {\n",
       "        text-align: right;\n",
       "    }\n",
       "</style>\n",
       "<table border=\"1\" class=\"dataframe\">\n",
       "  <thead>\n",
       "    <tr style=\"text-align: right;\">\n",
       "      <th></th>\n",
       "      <th>tweet_id</th>\n",
       "      <th>jpg_url</th>\n",
       "      <th>img_num</th>\n",
       "      <th>p1</th>\n",
       "      <th>p1_conf</th>\n",
       "      <th>p1_dog</th>\n",
       "      <th>p2</th>\n",
       "      <th>p2_conf</th>\n",
       "      <th>p2_dog</th>\n",
       "      <th>p3</th>\n",
       "      <th>p3_conf</th>\n",
       "      <th>p3_dog</th>\n",
       "    </tr>\n",
       "  </thead>\n",
       "  <tbody>\n",
       "    <tr>\n",
       "      <th>0</th>\n",
       "      <td>666020888022790149</td>\n",
       "      <td>https://pbs.twimg.com/media/CT4udn0WwAA0aMy.jpg</td>\n",
       "      <td>1</td>\n",
       "      <td>Welsh_springer_spaniel</td>\n",
       "      <td>0.465074</td>\n",
       "      <td>True</td>\n",
       "      <td>collie</td>\n",
       "      <td>0.156665</td>\n",
       "      <td>True</td>\n",
       "      <td>Shetland_sheepdog</td>\n",
       "      <td>0.061428</td>\n",
       "      <td>True</td>\n",
       "    </tr>\n",
       "    <tr>\n",
       "      <th>1</th>\n",
       "      <td>666029285002620928</td>\n",
       "      <td>https://pbs.twimg.com/media/CT42GRgUYAA5iDo.jpg</td>\n",
       "      <td>1</td>\n",
       "      <td>redbone</td>\n",
       "      <td>0.506826</td>\n",
       "      <td>True</td>\n",
       "      <td>miniature_pinscher</td>\n",
       "      <td>0.074192</td>\n",
       "      <td>True</td>\n",
       "      <td>Rhodesian_ridgeback</td>\n",
       "      <td>0.072010</td>\n",
       "      <td>True</td>\n",
       "    </tr>\n",
       "    <tr>\n",
       "      <th>2</th>\n",
       "      <td>666033412701032449</td>\n",
       "      <td>https://pbs.twimg.com/media/CT4521TWwAEvMyu.jpg</td>\n",
       "      <td>1</td>\n",
       "      <td>German_shepherd</td>\n",
       "      <td>0.596461</td>\n",
       "      <td>True</td>\n",
       "      <td>malinois</td>\n",
       "      <td>0.138584</td>\n",
       "      <td>True</td>\n",
       "      <td>bloodhound</td>\n",
       "      <td>0.116197</td>\n",
       "      <td>True</td>\n",
       "    </tr>\n",
       "    <tr>\n",
       "      <th>3</th>\n",
       "      <td>666044226329800704</td>\n",
       "      <td>https://pbs.twimg.com/media/CT5Dr8HUEAA-lEu.jpg</td>\n",
       "      <td>1</td>\n",
       "      <td>Rhodesian_ridgeback</td>\n",
       "      <td>0.408143</td>\n",
       "      <td>True</td>\n",
       "      <td>redbone</td>\n",
       "      <td>0.360687</td>\n",
       "      <td>True</td>\n",
       "      <td>miniature_pinscher</td>\n",
       "      <td>0.222752</td>\n",
       "      <td>True</td>\n",
       "    </tr>\n",
       "    <tr>\n",
       "      <th>4</th>\n",
       "      <td>666049248165822465</td>\n",
       "      <td>https://pbs.twimg.com/media/CT5IQmsXIAAKY4A.jpg</td>\n",
       "      <td>1</td>\n",
       "      <td>miniature_pinscher</td>\n",
       "      <td>0.560311</td>\n",
       "      <td>True</td>\n",
       "      <td>Rottweiler</td>\n",
       "      <td>0.243682</td>\n",
       "      <td>True</td>\n",
       "      <td>Doberman</td>\n",
       "      <td>0.154629</td>\n",
       "      <td>True</td>\n",
       "    </tr>\n",
       "    <tr>\n",
       "      <th>...</th>\n",
       "      <td>...</td>\n",
       "      <td>...</td>\n",
       "      <td>...</td>\n",
       "      <td>...</td>\n",
       "      <td>...</td>\n",
       "      <td>...</td>\n",
       "      <td>...</td>\n",
       "      <td>...</td>\n",
       "      <td>...</td>\n",
       "      <td>...</td>\n",
       "      <td>...</td>\n",
       "      <td>...</td>\n",
       "    </tr>\n",
       "    <tr>\n",
       "      <th>2070</th>\n",
       "      <td>891327558926688256</td>\n",
       "      <td>https://pbs.twimg.com/media/DF6hr6BUMAAzZgT.jpg</td>\n",
       "      <td>2</td>\n",
       "      <td>basset</td>\n",
       "      <td>0.555712</td>\n",
       "      <td>True</td>\n",
       "      <td>English_springer</td>\n",
       "      <td>0.225770</td>\n",
       "      <td>True</td>\n",
       "      <td>German_short-haired_pointer</td>\n",
       "      <td>0.175219</td>\n",
       "      <td>True</td>\n",
       "    </tr>\n",
       "    <tr>\n",
       "      <th>2071</th>\n",
       "      <td>891689557279858688</td>\n",
       "      <td>https://pbs.twimg.com/media/DF_q7IAWsAEuuN8.jpg</td>\n",
       "      <td>1</td>\n",
       "      <td>paper_towel</td>\n",
       "      <td>0.170278</td>\n",
       "      <td>False</td>\n",
       "      <td>Labrador_retriever</td>\n",
       "      <td>0.168086</td>\n",
       "      <td>True</td>\n",
       "      <td>spatula</td>\n",
       "      <td>0.040836</td>\n",
       "      <td>False</td>\n",
       "    </tr>\n",
       "    <tr>\n",
       "      <th>2072</th>\n",
       "      <td>891815181378084864</td>\n",
       "      <td>https://pbs.twimg.com/media/DGBdLU1WsAANxJ9.jpg</td>\n",
       "      <td>1</td>\n",
       "      <td>Chihuahua</td>\n",
       "      <td>0.716012</td>\n",
       "      <td>True</td>\n",
       "      <td>malamute</td>\n",
       "      <td>0.078253</td>\n",
       "      <td>True</td>\n",
       "      <td>kelpie</td>\n",
       "      <td>0.031379</td>\n",
       "      <td>True</td>\n",
       "    </tr>\n",
       "    <tr>\n",
       "      <th>2073</th>\n",
       "      <td>892177421306343426</td>\n",
       "      <td>https://pbs.twimg.com/media/DGGmoV4XsAAUL6n.jpg</td>\n",
       "      <td>1</td>\n",
       "      <td>Chihuahua</td>\n",
       "      <td>0.323581</td>\n",
       "      <td>True</td>\n",
       "      <td>Pekinese</td>\n",
       "      <td>0.090647</td>\n",
       "      <td>True</td>\n",
       "      <td>papillon</td>\n",
       "      <td>0.068957</td>\n",
       "      <td>True</td>\n",
       "    </tr>\n",
       "    <tr>\n",
       "      <th>2074</th>\n",
       "      <td>892420643555336193</td>\n",
       "      <td>https://pbs.twimg.com/media/DGKD1-bXoAAIAUK.jpg</td>\n",
       "      <td>1</td>\n",
       "      <td>orange</td>\n",
       "      <td>0.097049</td>\n",
       "      <td>False</td>\n",
       "      <td>bagel</td>\n",
       "      <td>0.085851</td>\n",
       "      <td>False</td>\n",
       "      <td>banana</td>\n",
       "      <td>0.076110</td>\n",
       "      <td>False</td>\n",
       "    </tr>\n",
       "  </tbody>\n",
       "</table>\n",
       "<p>2075 rows × 12 columns</p>\n",
       "</div>"
      ],
      "text/plain": [
       "                tweet_id                                          jpg_url  \\\n",
       "0     666020888022790149  https://pbs.twimg.com/media/CT4udn0WwAA0aMy.jpg   \n",
       "1     666029285002620928  https://pbs.twimg.com/media/CT42GRgUYAA5iDo.jpg   \n",
       "2     666033412701032449  https://pbs.twimg.com/media/CT4521TWwAEvMyu.jpg   \n",
       "3     666044226329800704  https://pbs.twimg.com/media/CT5Dr8HUEAA-lEu.jpg   \n",
       "4     666049248165822465  https://pbs.twimg.com/media/CT5IQmsXIAAKY4A.jpg   \n",
       "...                  ...                                              ...   \n",
       "2070  891327558926688256  https://pbs.twimg.com/media/DF6hr6BUMAAzZgT.jpg   \n",
       "2071  891689557279858688  https://pbs.twimg.com/media/DF_q7IAWsAEuuN8.jpg   \n",
       "2072  891815181378084864  https://pbs.twimg.com/media/DGBdLU1WsAANxJ9.jpg   \n",
       "2073  892177421306343426  https://pbs.twimg.com/media/DGGmoV4XsAAUL6n.jpg   \n",
       "2074  892420643555336193  https://pbs.twimg.com/media/DGKD1-bXoAAIAUK.jpg   \n",
       "\n",
       "      img_num                      p1   p1_conf  p1_dog                  p2  \\\n",
       "0           1  Welsh_springer_spaniel  0.465074    True              collie   \n",
       "1           1                 redbone  0.506826    True  miniature_pinscher   \n",
       "2           1         German_shepherd  0.596461    True            malinois   \n",
       "3           1     Rhodesian_ridgeback  0.408143    True             redbone   \n",
       "4           1      miniature_pinscher  0.560311    True          Rottweiler   \n",
       "...       ...                     ...       ...     ...                 ...   \n",
       "2070        2                  basset  0.555712    True    English_springer   \n",
       "2071        1             paper_towel  0.170278   False  Labrador_retriever   \n",
       "2072        1               Chihuahua  0.716012    True            malamute   \n",
       "2073        1               Chihuahua  0.323581    True            Pekinese   \n",
       "2074        1                  orange  0.097049   False               bagel   \n",
       "\n",
       "       p2_conf  p2_dog                           p3   p3_conf  p3_dog  \n",
       "0     0.156665    True            Shetland_sheepdog  0.061428    True  \n",
       "1     0.074192    True          Rhodesian_ridgeback  0.072010    True  \n",
       "2     0.138584    True                   bloodhound  0.116197    True  \n",
       "3     0.360687    True           miniature_pinscher  0.222752    True  \n",
       "4     0.243682    True                     Doberman  0.154629    True  \n",
       "...        ...     ...                          ...       ...     ...  \n",
       "2070  0.225770    True  German_short-haired_pointer  0.175219    True  \n",
       "2071  0.168086    True                      spatula  0.040836   False  \n",
       "2072  0.078253    True                       kelpie  0.031379    True  \n",
       "2073  0.090647    True                     papillon  0.068957    True  \n",
       "2074  0.085851   False                       banana  0.076110   False  \n",
       "\n",
       "[2075 rows x 12 columns]"
      ]
     },
     "execution_count": 47,
     "metadata": {},
     "output_type": "execute_result"
    }
   ],
   "source": [
    "image_predictions_df"
   ]
  },
  {
   "cell_type": "code",
   "execution_count": 48,
   "id": "3ec13265",
   "metadata": {},
   "outputs": [
    {
     "data": {
      "text/html": [
       "<div>\n",
       "<style scoped>\n",
       "    .dataframe tbody tr th:only-of-type {\n",
       "        vertical-align: middle;\n",
       "    }\n",
       "\n",
       "    .dataframe tbody tr th {\n",
       "        vertical-align: top;\n",
       "    }\n",
       "\n",
       "    .dataframe thead th {\n",
       "        text-align: right;\n",
       "    }\n",
       "</style>\n",
       "<table border=\"1\" class=\"dataframe\">\n",
       "  <thead>\n",
       "    <tr style=\"text-align: right;\">\n",
       "      <th></th>\n",
       "      <th>tweet_id</th>\n",
       "      <th>in_reply_to_status_id</th>\n",
       "      <th>in_reply_to_user_id</th>\n",
       "      <th>timestamp</th>\n",
       "      <th>source</th>\n",
       "      <th>text</th>\n",
       "      <th>retweeted_status_id</th>\n",
       "      <th>retweeted_status_user_id</th>\n",
       "      <th>retweeted_status_timestamp</th>\n",
       "      <th>expanded_urls</th>\n",
       "      <th>rating_numerator</th>\n",
       "      <th>rating_denominator</th>\n",
       "      <th>name</th>\n",
       "      <th>doggo</th>\n",
       "      <th>floofer</th>\n",
       "      <th>pupper</th>\n",
       "      <th>puppo</th>\n",
       "    </tr>\n",
       "  </thead>\n",
       "  <tbody>\n",
       "    <tr>\n",
       "      <th>0</th>\n",
       "      <td>892420643555336193</td>\n",
       "      <td>NaN</td>\n",
       "      <td>NaN</td>\n",
       "      <td>2017-08-01 16:23:56 +0000</td>\n",
       "      <td>&lt;a href=\"http://twitter.com/download/iphone\" r...</td>\n",
       "      <td>This is Phineas. He's a mystical boy. Only eve...</td>\n",
       "      <td>NaN</td>\n",
       "      <td>NaN</td>\n",
       "      <td>NaN</td>\n",
       "      <td>https://twitter.com/dog_rates/status/892420643...</td>\n",
       "      <td>13</td>\n",
       "      <td>10</td>\n",
       "      <td>Phineas</td>\n",
       "      <td>None</td>\n",
       "      <td>None</td>\n",
       "      <td>None</td>\n",
       "      <td>None</td>\n",
       "    </tr>\n",
       "    <tr>\n",
       "      <th>1</th>\n",
       "      <td>892177421306343426</td>\n",
       "      <td>NaN</td>\n",
       "      <td>NaN</td>\n",
       "      <td>2017-08-01 00:17:27 +0000</td>\n",
       "      <td>&lt;a href=\"http://twitter.com/download/iphone\" r...</td>\n",
       "      <td>This is Tilly. She's just checking pup on you....</td>\n",
       "      <td>NaN</td>\n",
       "      <td>NaN</td>\n",
       "      <td>NaN</td>\n",
       "      <td>https://twitter.com/dog_rates/status/892177421...</td>\n",
       "      <td>13</td>\n",
       "      <td>10</td>\n",
       "      <td>Tilly</td>\n",
       "      <td>None</td>\n",
       "      <td>None</td>\n",
       "      <td>None</td>\n",
       "      <td>None</td>\n",
       "    </tr>\n",
       "    <tr>\n",
       "      <th>2</th>\n",
       "      <td>891815181378084864</td>\n",
       "      <td>NaN</td>\n",
       "      <td>NaN</td>\n",
       "      <td>2017-07-31 00:18:03 +0000</td>\n",
       "      <td>&lt;a href=\"http://twitter.com/download/iphone\" r...</td>\n",
       "      <td>This is Archie. He is a rare Norwegian Pouncin...</td>\n",
       "      <td>NaN</td>\n",
       "      <td>NaN</td>\n",
       "      <td>NaN</td>\n",
       "      <td>https://twitter.com/dog_rates/status/891815181...</td>\n",
       "      <td>12</td>\n",
       "      <td>10</td>\n",
       "      <td>Archie</td>\n",
       "      <td>None</td>\n",
       "      <td>None</td>\n",
       "      <td>None</td>\n",
       "      <td>None</td>\n",
       "    </tr>\n",
       "    <tr>\n",
       "      <th>3</th>\n",
       "      <td>891689557279858688</td>\n",
       "      <td>NaN</td>\n",
       "      <td>NaN</td>\n",
       "      <td>2017-07-30 15:58:51 +0000</td>\n",
       "      <td>&lt;a href=\"http://twitter.com/download/iphone\" r...</td>\n",
       "      <td>This is Darla. She commenced a snooze mid meal...</td>\n",
       "      <td>NaN</td>\n",
       "      <td>NaN</td>\n",
       "      <td>NaN</td>\n",
       "      <td>https://twitter.com/dog_rates/status/891689557...</td>\n",
       "      <td>13</td>\n",
       "      <td>10</td>\n",
       "      <td>Darla</td>\n",
       "      <td>None</td>\n",
       "      <td>None</td>\n",
       "      <td>None</td>\n",
       "      <td>None</td>\n",
       "    </tr>\n",
       "    <tr>\n",
       "      <th>4</th>\n",
       "      <td>891327558926688256</td>\n",
       "      <td>NaN</td>\n",
       "      <td>NaN</td>\n",
       "      <td>2017-07-29 16:00:24 +0000</td>\n",
       "      <td>&lt;a href=\"http://twitter.com/download/iphone\" r...</td>\n",
       "      <td>This is Franklin. He would like you to stop ca...</td>\n",
       "      <td>NaN</td>\n",
       "      <td>NaN</td>\n",
       "      <td>NaN</td>\n",
       "      <td>https://twitter.com/dog_rates/status/891327558...</td>\n",
       "      <td>12</td>\n",
       "      <td>10</td>\n",
       "      <td>Franklin</td>\n",
       "      <td>None</td>\n",
       "      <td>None</td>\n",
       "      <td>None</td>\n",
       "      <td>None</td>\n",
       "    </tr>\n",
       "  </tbody>\n",
       "</table>\n",
       "</div>"
      ],
      "text/plain": [
       "             tweet_id  in_reply_to_status_id  in_reply_to_user_id  \\\n",
       "0  892420643555336193                    NaN                  NaN   \n",
       "1  892177421306343426                    NaN                  NaN   \n",
       "2  891815181378084864                    NaN                  NaN   \n",
       "3  891689557279858688                    NaN                  NaN   \n",
       "4  891327558926688256                    NaN                  NaN   \n",
       "\n",
       "                   timestamp  \\\n",
       "0  2017-08-01 16:23:56 +0000   \n",
       "1  2017-08-01 00:17:27 +0000   \n",
       "2  2017-07-31 00:18:03 +0000   \n",
       "3  2017-07-30 15:58:51 +0000   \n",
       "4  2017-07-29 16:00:24 +0000   \n",
       "\n",
       "                                              source  \\\n",
       "0  <a href=\"http://twitter.com/download/iphone\" r...   \n",
       "1  <a href=\"http://twitter.com/download/iphone\" r...   \n",
       "2  <a href=\"http://twitter.com/download/iphone\" r...   \n",
       "3  <a href=\"http://twitter.com/download/iphone\" r...   \n",
       "4  <a href=\"http://twitter.com/download/iphone\" r...   \n",
       "\n",
       "                                                text  retweeted_status_id  \\\n",
       "0  This is Phineas. He's a mystical boy. Only eve...                  NaN   \n",
       "1  This is Tilly. She's just checking pup on you....                  NaN   \n",
       "2  This is Archie. He is a rare Norwegian Pouncin...                  NaN   \n",
       "3  This is Darla. She commenced a snooze mid meal...                  NaN   \n",
       "4  This is Franklin. He would like you to stop ca...                  NaN   \n",
       "\n",
       "   retweeted_status_user_id retweeted_status_timestamp  \\\n",
       "0                       NaN                        NaN   \n",
       "1                       NaN                        NaN   \n",
       "2                       NaN                        NaN   \n",
       "3                       NaN                        NaN   \n",
       "4                       NaN                        NaN   \n",
       "\n",
       "                                       expanded_urls  rating_numerator  \\\n",
       "0  https://twitter.com/dog_rates/status/892420643...                13   \n",
       "1  https://twitter.com/dog_rates/status/892177421...                13   \n",
       "2  https://twitter.com/dog_rates/status/891815181...                12   \n",
       "3  https://twitter.com/dog_rates/status/891689557...                13   \n",
       "4  https://twitter.com/dog_rates/status/891327558...                12   \n",
       "\n",
       "   rating_denominator      name doggo floofer pupper puppo  \n",
       "0                  10   Phineas  None    None   None  None  \n",
       "1                  10     Tilly  None    None   None  None  \n",
       "2                  10    Archie  None    None   None  None  \n",
       "3                  10     Darla  None    None   None  None  \n",
       "4                  10  Franklin  None    None   None  None  "
      ]
     },
     "execution_count": 48,
     "metadata": {},
     "output_type": "execute_result"
    }
   ],
   "source": [
    "twitter_archive_df.head()"
   ]
  },
  {
   "cell_type": "code",
   "execution_count": 49,
   "id": "ebf00290",
   "metadata": {},
   "outputs": [
    {
     "data": {
      "text/html": [
       "<div>\n",
       "<style scoped>\n",
       "    .dataframe tbody tr th:only-of-type {\n",
       "        vertical-align: middle;\n",
       "    }\n",
       "\n",
       "    .dataframe tbody tr th {\n",
       "        vertical-align: top;\n",
       "    }\n",
       "\n",
       "    .dataframe thead th {\n",
       "        text-align: right;\n",
       "    }\n",
       "</style>\n",
       "<table border=\"1\" class=\"dataframe\">\n",
       "  <thead>\n",
       "    <tr style=\"text-align: right;\">\n",
       "      <th></th>\n",
       "      <th>created_at</th>\n",
       "      <th>id</th>\n",
       "      <th>id_str</th>\n",
       "      <th>full_text</th>\n",
       "      <th>truncated</th>\n",
       "      <th>display_text_range</th>\n",
       "      <th>entities</th>\n",
       "      <th>extended_entities</th>\n",
       "      <th>source</th>\n",
       "      <th>in_reply_to_status_id</th>\n",
       "      <th>...</th>\n",
       "      <th>favorite_count</th>\n",
       "      <th>favorited</th>\n",
       "      <th>retweeted</th>\n",
       "      <th>possibly_sensitive</th>\n",
       "      <th>possibly_sensitive_appealable</th>\n",
       "      <th>lang</th>\n",
       "      <th>retweeted_status</th>\n",
       "      <th>quoted_status_id</th>\n",
       "      <th>quoted_status_id_str</th>\n",
       "      <th>quoted_status</th>\n",
       "    </tr>\n",
       "  </thead>\n",
       "  <tbody>\n",
       "    <tr>\n",
       "      <th>0</th>\n",
       "      <td>2017-08-01 16:23:56+00:00</td>\n",
       "      <td>892420643555336193</td>\n",
       "      <td>892420643555336192</td>\n",
       "      <td>This is Phineas. He's a mystical boy. Only eve...</td>\n",
       "      <td>False</td>\n",
       "      <td>[0, 85]</td>\n",
       "      <td>{'hashtags': [], 'symbols': [], 'user_mentions...</td>\n",
       "      <td>{'media': [{'id': 892420639486877696, 'id_str'...</td>\n",
       "      <td>&lt;a href=\"http://twitter.com/download/iphone\" r...</td>\n",
       "      <td>NaN</td>\n",
       "      <td>...</td>\n",
       "      <td>39467</td>\n",
       "      <td>False</td>\n",
       "      <td>False</td>\n",
       "      <td>0.0</td>\n",
       "      <td>0.0</td>\n",
       "      <td>en</td>\n",
       "      <td>NaN</td>\n",
       "      <td>NaN</td>\n",
       "      <td>NaN</td>\n",
       "      <td>NaN</td>\n",
       "    </tr>\n",
       "    <tr>\n",
       "      <th>1</th>\n",
       "      <td>2017-08-01 00:17:27+00:00</td>\n",
       "      <td>892177421306343426</td>\n",
       "      <td>892177421306343424</td>\n",
       "      <td>This is Tilly. She's just checking pup on you....</td>\n",
       "      <td>False</td>\n",
       "      <td>[0, 138]</td>\n",
       "      <td>{'hashtags': [], 'symbols': [], 'user_mentions...</td>\n",
       "      <td>{'media': [{'id': 892177413194625024, 'id_str'...</td>\n",
       "      <td>&lt;a href=\"http://twitter.com/download/iphone\" r...</td>\n",
       "      <td>NaN</td>\n",
       "      <td>...</td>\n",
       "      <td>33819</td>\n",
       "      <td>False</td>\n",
       "      <td>False</td>\n",
       "      <td>0.0</td>\n",
       "      <td>0.0</td>\n",
       "      <td>en</td>\n",
       "      <td>NaN</td>\n",
       "      <td>NaN</td>\n",
       "      <td>NaN</td>\n",
       "      <td>NaN</td>\n",
       "    </tr>\n",
       "    <tr>\n",
       "      <th>2</th>\n",
       "      <td>2017-07-31 00:18:03+00:00</td>\n",
       "      <td>891815181378084864</td>\n",
       "      <td>891815181378084864</td>\n",
       "      <td>This is Archie. He is a rare Norwegian Pouncin...</td>\n",
       "      <td>False</td>\n",
       "      <td>[0, 121]</td>\n",
       "      <td>{'hashtags': [], 'symbols': [], 'user_mentions...</td>\n",
       "      <td>{'media': [{'id': 891815175371796480, 'id_str'...</td>\n",
       "      <td>&lt;a href=\"http://twitter.com/download/iphone\" r...</td>\n",
       "      <td>NaN</td>\n",
       "      <td>...</td>\n",
       "      <td>25461</td>\n",
       "      <td>False</td>\n",
       "      <td>False</td>\n",
       "      <td>0.0</td>\n",
       "      <td>0.0</td>\n",
       "      <td>en</td>\n",
       "      <td>NaN</td>\n",
       "      <td>NaN</td>\n",
       "      <td>NaN</td>\n",
       "      <td>NaN</td>\n",
       "    </tr>\n",
       "    <tr>\n",
       "      <th>3</th>\n",
       "      <td>2017-07-30 15:58:51+00:00</td>\n",
       "      <td>891689557279858688</td>\n",
       "      <td>891689557279858688</td>\n",
       "      <td>This is Darla. She commenced a snooze mid meal...</td>\n",
       "      <td>False</td>\n",
       "      <td>[0, 79]</td>\n",
       "      <td>{'hashtags': [], 'symbols': [], 'user_mentions...</td>\n",
       "      <td>{'media': [{'id': 891689552724799489, 'id_str'...</td>\n",
       "      <td>&lt;a href=\"http://twitter.com/download/iphone\" r...</td>\n",
       "      <td>NaN</td>\n",
       "      <td>...</td>\n",
       "      <td>42908</td>\n",
       "      <td>False</td>\n",
       "      <td>False</td>\n",
       "      <td>0.0</td>\n",
       "      <td>0.0</td>\n",
       "      <td>en</td>\n",
       "      <td>NaN</td>\n",
       "      <td>NaN</td>\n",
       "      <td>NaN</td>\n",
       "      <td>NaN</td>\n",
       "    </tr>\n",
       "    <tr>\n",
       "      <th>4</th>\n",
       "      <td>2017-07-29 16:00:24+00:00</td>\n",
       "      <td>891327558926688256</td>\n",
       "      <td>891327558926688256</td>\n",
       "      <td>This is Franklin. He would like you to stop ca...</td>\n",
       "      <td>False</td>\n",
       "      <td>[0, 138]</td>\n",
       "      <td>{'hashtags': [{'text': 'BarkWeek', 'indices': ...</td>\n",
       "      <td>{'media': [{'id': 891327551943041024, 'id_str'...</td>\n",
       "      <td>&lt;a href=\"http://twitter.com/download/iphone\" r...</td>\n",
       "      <td>NaN</td>\n",
       "      <td>...</td>\n",
       "      <td>41048</td>\n",
       "      <td>False</td>\n",
       "      <td>False</td>\n",
       "      <td>0.0</td>\n",
       "      <td>0.0</td>\n",
       "      <td>en</td>\n",
       "      <td>NaN</td>\n",
       "      <td>NaN</td>\n",
       "      <td>NaN</td>\n",
       "      <td>NaN</td>\n",
       "    </tr>\n",
       "  </tbody>\n",
       "</table>\n",
       "<p>5 rows × 31 columns</p>\n",
       "</div>"
      ],
      "text/plain": [
       "                 created_at                  id              id_str  \\\n",
       "0 2017-08-01 16:23:56+00:00  892420643555336193  892420643555336192   \n",
       "1 2017-08-01 00:17:27+00:00  892177421306343426  892177421306343424   \n",
       "2 2017-07-31 00:18:03+00:00  891815181378084864  891815181378084864   \n",
       "3 2017-07-30 15:58:51+00:00  891689557279858688  891689557279858688   \n",
       "4 2017-07-29 16:00:24+00:00  891327558926688256  891327558926688256   \n",
       "\n",
       "                                           full_text  truncated  \\\n",
       "0  This is Phineas. He's a mystical boy. Only eve...      False   \n",
       "1  This is Tilly. She's just checking pup on you....      False   \n",
       "2  This is Archie. He is a rare Norwegian Pouncin...      False   \n",
       "3  This is Darla. She commenced a snooze mid meal...      False   \n",
       "4  This is Franklin. He would like you to stop ca...      False   \n",
       "\n",
       "  display_text_range                                           entities  \\\n",
       "0            [0, 85]  {'hashtags': [], 'symbols': [], 'user_mentions...   \n",
       "1           [0, 138]  {'hashtags': [], 'symbols': [], 'user_mentions...   \n",
       "2           [0, 121]  {'hashtags': [], 'symbols': [], 'user_mentions...   \n",
       "3            [0, 79]  {'hashtags': [], 'symbols': [], 'user_mentions...   \n",
       "4           [0, 138]  {'hashtags': [{'text': 'BarkWeek', 'indices': ...   \n",
       "\n",
       "                                   extended_entities  \\\n",
       "0  {'media': [{'id': 892420639486877696, 'id_str'...   \n",
       "1  {'media': [{'id': 892177413194625024, 'id_str'...   \n",
       "2  {'media': [{'id': 891815175371796480, 'id_str'...   \n",
       "3  {'media': [{'id': 891689552724799489, 'id_str'...   \n",
       "4  {'media': [{'id': 891327551943041024, 'id_str'...   \n",
       "\n",
       "                                              source  in_reply_to_status_id  \\\n",
       "0  <a href=\"http://twitter.com/download/iphone\" r...                    NaN   \n",
       "1  <a href=\"http://twitter.com/download/iphone\" r...                    NaN   \n",
       "2  <a href=\"http://twitter.com/download/iphone\" r...                    NaN   \n",
       "3  <a href=\"http://twitter.com/download/iphone\" r...                    NaN   \n",
       "4  <a href=\"http://twitter.com/download/iphone\" r...                    NaN   \n",
       "\n",
       "   ...  favorite_count  favorited  retweeted possibly_sensitive  \\\n",
       "0  ...           39467      False      False                0.0   \n",
       "1  ...           33819      False      False                0.0   \n",
       "2  ...           25461      False      False                0.0   \n",
       "3  ...           42908      False      False                0.0   \n",
       "4  ...           41048      False      False                0.0   \n",
       "\n",
       "  possibly_sensitive_appealable  lang  retweeted_status quoted_status_id  \\\n",
       "0                           0.0    en               NaN              NaN   \n",
       "1                           0.0    en               NaN              NaN   \n",
       "2                           0.0    en               NaN              NaN   \n",
       "3                           0.0    en               NaN              NaN   \n",
       "4                           0.0    en               NaN              NaN   \n",
       "\n",
       "   quoted_status_id_str  quoted_status  \n",
       "0                   NaN            NaN  \n",
       "1                   NaN            NaN  \n",
       "2                   NaN            NaN  \n",
       "3                   NaN            NaN  \n",
       "4                   NaN            NaN  \n",
       "\n",
       "[5 rows x 31 columns]"
      ]
     },
     "execution_count": 49,
     "metadata": {},
     "output_type": "execute_result"
    }
   ],
   "source": [
    "tweet_json_df.head(5)"
   ]
  },
  {
   "cell_type": "code",
   "execution_count": null,
   "id": "25679fcf",
   "metadata": {},
   "outputs": [],
   "source": []
  },
  {
   "cell_type": "markdown",
   "id": "39aae8be",
   "metadata": {},
   "source": [
    "#### Addressing Tidiness\n",
    "- For the twitter archive dataset, there are four columns(doggo,floofer,pupper,puppo) which are not individually variables but point to the same type of observation(dog stage)....hence they should be values for one column. \n"
   ]
  },
  {
   "cell_type": "markdown",
   "id": "6a9c99aa",
   "metadata": {},
   "source": [
    "- In the image predictions' dataset, the final breed cannot easily be assessed directly for visualisation"
   ]
  },
  {
   "cell_type": "markdown",
   "id": "ef887c13",
   "metadata": {},
   "source": [
    "- the dataframes twitter_json,image predictions and twitter_enhanced_archive all observe data of the same nature(related data) hence can be merged into one table to avoid dealing with several tables."
   ]
  },
  {
   "cell_type": "markdown",
   "id": "50d48eaa",
   "metadata": {},
   "source": [
    "### b) Programmatic assessment"
   ]
  },
  {
   "cell_type": "markdown",
   "id": "b22c616a",
   "metadata": {},
   "source": [
    "#### Beginngs with the image_predictions datasets"
   ]
  },
  {
   "cell_type": "code",
   "execution_count": 50,
   "id": "35da2ca5",
   "metadata": {},
   "outputs": [
    {
     "name": "stdout",
     "output_type": "stream",
     "text": [
      "<class 'pandas.core.frame.DataFrame'>\n",
      "RangeIndex: 2075 entries, 0 to 2074\n",
      "Data columns (total 12 columns):\n",
      " #   Column    Non-Null Count  Dtype  \n",
      "---  ------    --------------  -----  \n",
      " 0   tweet_id  2075 non-null   int64  \n",
      " 1   jpg_url   2075 non-null   object \n",
      " 2   img_num   2075 non-null   int64  \n",
      " 3   p1        2075 non-null   object \n",
      " 4   p1_conf   2075 non-null   float64\n",
      " 5   p1_dog    2075 non-null   bool   \n",
      " 6   p2        2075 non-null   object \n",
      " 7   p2_conf   2075 non-null   float64\n",
      " 8   p2_dog    2075 non-null   bool   \n",
      " 9   p3        2075 non-null   object \n",
      " 10  p3_conf   2075 non-null   float64\n",
      " 11  p3_dog    2075 non-null   bool   \n",
      "dtypes: bool(3), float64(3), int64(2), object(4)\n",
      "memory usage: 152.1+ KB\n"
     ]
    }
   ],
   "source": [
    "image_predictions_df.info()"
   ]
  },
  {
   "cell_type": "code",
   "execution_count": 51,
   "id": "b01592ae",
   "metadata": {},
   "outputs": [
    {
     "data": {
      "text/plain": [
       "0       False\n",
       "1       False\n",
       "2       False\n",
       "3       False\n",
       "4       False\n",
       "        ...  \n",
       "2070    False\n",
       "2071    False\n",
       "2072    False\n",
       "2073    False\n",
       "2074    False\n",
       "Length: 2075, dtype: bool"
      ]
     },
     "execution_count": 51,
     "metadata": {},
     "output_type": "execute_result"
    }
   ],
   "source": [
    "image_predictions_df.duplicated()"
   ]
  },
  {
   "cell_type": "code",
   "execution_count": 52,
   "id": "a3228533",
   "metadata": {},
   "outputs": [
    {
     "data": {
      "text/html": [
       "<div>\n",
       "<style scoped>\n",
       "    .dataframe tbody tr th:only-of-type {\n",
       "        vertical-align: middle;\n",
       "    }\n",
       "\n",
       "    .dataframe tbody tr th {\n",
       "        vertical-align: top;\n",
       "    }\n",
       "\n",
       "    .dataframe thead th {\n",
       "        text-align: right;\n",
       "    }\n",
       "</style>\n",
       "<table border=\"1\" class=\"dataframe\">\n",
       "  <thead>\n",
       "    <tr style=\"text-align: right;\">\n",
       "      <th></th>\n",
       "      <th>tweet_id</th>\n",
       "      <th>img_num</th>\n",
       "      <th>p1_conf</th>\n",
       "      <th>p2_conf</th>\n",
       "      <th>p3_conf</th>\n",
       "    </tr>\n",
       "  </thead>\n",
       "  <tbody>\n",
       "    <tr>\n",
       "      <th>count</th>\n",
       "      <td>2.075000e+03</td>\n",
       "      <td>2075.000000</td>\n",
       "      <td>2075.000000</td>\n",
       "      <td>2.075000e+03</td>\n",
       "      <td>2.075000e+03</td>\n",
       "    </tr>\n",
       "    <tr>\n",
       "      <th>mean</th>\n",
       "      <td>7.384514e+17</td>\n",
       "      <td>1.203855</td>\n",
       "      <td>0.594548</td>\n",
       "      <td>1.345886e-01</td>\n",
       "      <td>6.032417e-02</td>\n",
       "    </tr>\n",
       "    <tr>\n",
       "      <th>std</th>\n",
       "      <td>6.785203e+16</td>\n",
       "      <td>0.561875</td>\n",
       "      <td>0.271174</td>\n",
       "      <td>1.006657e-01</td>\n",
       "      <td>5.090593e-02</td>\n",
       "    </tr>\n",
       "    <tr>\n",
       "      <th>min</th>\n",
       "      <td>6.660209e+17</td>\n",
       "      <td>1.000000</td>\n",
       "      <td>0.044333</td>\n",
       "      <td>1.011300e-08</td>\n",
       "      <td>1.740170e-10</td>\n",
       "    </tr>\n",
       "    <tr>\n",
       "      <th>25%</th>\n",
       "      <td>6.764835e+17</td>\n",
       "      <td>1.000000</td>\n",
       "      <td>0.364412</td>\n",
       "      <td>5.388625e-02</td>\n",
       "      <td>1.622240e-02</td>\n",
       "    </tr>\n",
       "    <tr>\n",
       "      <th>50%</th>\n",
       "      <td>7.119988e+17</td>\n",
       "      <td>1.000000</td>\n",
       "      <td>0.588230</td>\n",
       "      <td>1.181810e-01</td>\n",
       "      <td>4.944380e-02</td>\n",
       "    </tr>\n",
       "    <tr>\n",
       "      <th>75%</th>\n",
       "      <td>7.932034e+17</td>\n",
       "      <td>1.000000</td>\n",
       "      <td>0.843855</td>\n",
       "      <td>1.955655e-01</td>\n",
       "      <td>9.180755e-02</td>\n",
       "    </tr>\n",
       "    <tr>\n",
       "      <th>max</th>\n",
       "      <td>8.924206e+17</td>\n",
       "      <td>4.000000</td>\n",
       "      <td>1.000000</td>\n",
       "      <td>4.880140e-01</td>\n",
       "      <td>2.734190e-01</td>\n",
       "    </tr>\n",
       "  </tbody>\n",
       "</table>\n",
       "</div>"
      ],
      "text/plain": [
       "           tweet_id      img_num      p1_conf       p2_conf       p3_conf\n",
       "count  2.075000e+03  2075.000000  2075.000000  2.075000e+03  2.075000e+03\n",
       "mean   7.384514e+17     1.203855     0.594548  1.345886e-01  6.032417e-02\n",
       "std    6.785203e+16     0.561875     0.271174  1.006657e-01  5.090593e-02\n",
       "min    6.660209e+17     1.000000     0.044333  1.011300e-08  1.740170e-10\n",
       "25%    6.764835e+17     1.000000     0.364412  5.388625e-02  1.622240e-02\n",
       "50%    7.119988e+17     1.000000     0.588230  1.181810e-01  4.944380e-02\n",
       "75%    7.932034e+17     1.000000     0.843855  1.955655e-01  9.180755e-02\n",
       "max    8.924206e+17     4.000000     1.000000  4.880140e-01  2.734190e-01"
      ]
     },
     "execution_count": 52,
     "metadata": {},
     "output_type": "execute_result"
    }
   ],
   "source": [
    "image_predictions_df.describe()"
   ]
  },
  {
   "cell_type": "markdown",
   "id": "0c3d4470",
   "metadata": {},
   "source": [
    "#### Following with the tweet_json dataset"
   ]
  },
  {
   "cell_type": "code",
   "execution_count": 53,
   "id": "b76a7075",
   "metadata": {},
   "outputs": [
    {
     "name": "stdout",
     "output_type": "stream",
     "text": [
      "<class 'pandas.core.frame.DataFrame'>\n",
      "RangeIndex: 2354 entries, 0 to 2353\n",
      "Data columns (total 31 columns):\n",
      " #   Column                         Non-Null Count  Dtype              \n",
      "---  ------                         --------------  -----              \n",
      " 0   created_at                     2354 non-null   datetime64[ns, UTC]\n",
      " 1   id                             2354 non-null   int64              \n",
      " 2   id_str                         2354 non-null   int64              \n",
      " 3   full_text                      2354 non-null   object             \n",
      " 4   truncated                      2354 non-null   bool               \n",
      " 5   display_text_range             2354 non-null   object             \n",
      " 6   entities                       2354 non-null   object             \n",
      " 7   extended_entities              2073 non-null   object             \n",
      " 8   source                         2354 non-null   object             \n",
      " 9   in_reply_to_status_id          78 non-null     float64            \n",
      " 10  in_reply_to_status_id_str      78 non-null     float64            \n",
      " 11  in_reply_to_user_id            78 non-null     float64            \n",
      " 12  in_reply_to_user_id_str        78 non-null     float64            \n",
      " 13  in_reply_to_screen_name        78 non-null     object             \n",
      " 14  user                           2354 non-null   object             \n",
      " 15  geo                            0 non-null      float64            \n",
      " 16  coordinates                    0 non-null      float64            \n",
      " 17  place                          1 non-null      object             \n",
      " 18  contributors                   0 non-null      float64            \n",
      " 19  is_quote_status                2354 non-null   bool               \n",
      " 20  retweet_count                  2354 non-null   int64              \n",
      " 21  favorite_count                 2354 non-null   int64              \n",
      " 22  favorited                      2354 non-null   bool               \n",
      " 23  retweeted                      2354 non-null   bool               \n",
      " 24  possibly_sensitive             2211 non-null   float64            \n",
      " 25  possibly_sensitive_appealable  2211 non-null   float64            \n",
      " 26  lang                           2354 non-null   object             \n",
      " 27  retweeted_status               179 non-null    object             \n",
      " 28  quoted_status_id               29 non-null     float64            \n",
      " 29  quoted_status_id_str           29 non-null     float64            \n",
      " 30  quoted_status                  28 non-null     object             \n",
      "dtypes: bool(4), datetime64[ns, UTC](1), float64(11), int64(4), object(11)\n",
      "memory usage: 505.9+ KB\n"
     ]
    }
   ],
   "source": [
    "tweet_json_df.info()"
   ]
  },
  {
   "cell_type": "code",
   "execution_count": 54,
   "id": "a4fe38b3",
   "metadata": {},
   "outputs": [
    {
     "data": {
      "text/html": [
       "<div>\n",
       "<style scoped>\n",
       "    .dataframe tbody tr th:only-of-type {\n",
       "        vertical-align: middle;\n",
       "    }\n",
       "\n",
       "    .dataframe tbody tr th {\n",
       "        vertical-align: top;\n",
       "    }\n",
       "\n",
       "    .dataframe thead th {\n",
       "        text-align: right;\n",
       "    }\n",
       "</style>\n",
       "<table border=\"1\" class=\"dataframe\">\n",
       "  <thead>\n",
       "    <tr style=\"text-align: right;\">\n",
       "      <th></th>\n",
       "      <th>created_at</th>\n",
       "      <th>id</th>\n",
       "      <th>id_str</th>\n",
       "      <th>full_text</th>\n",
       "      <th>truncated</th>\n",
       "      <th>display_text_range</th>\n",
       "      <th>entities</th>\n",
       "      <th>extended_entities</th>\n",
       "      <th>source</th>\n",
       "      <th>in_reply_to_status_id</th>\n",
       "      <th>...</th>\n",
       "      <th>favorite_count</th>\n",
       "      <th>favorited</th>\n",
       "      <th>retweeted</th>\n",
       "      <th>possibly_sensitive</th>\n",
       "      <th>possibly_sensitive_appealable</th>\n",
       "      <th>lang</th>\n",
       "      <th>retweeted_status</th>\n",
       "      <th>quoted_status_id</th>\n",
       "      <th>quoted_status_id_str</th>\n",
       "      <th>quoted_status</th>\n",
       "    </tr>\n",
       "  </thead>\n",
       "  <tbody>\n",
       "    <tr>\n",
       "      <th>0</th>\n",
       "      <td>2017-08-01 16:23:56+00:00</td>\n",
       "      <td>892420643555336193</td>\n",
       "      <td>892420643555336192</td>\n",
       "      <td>This is Phineas. He's a mystical boy. Only eve...</td>\n",
       "      <td>False</td>\n",
       "      <td>[0, 85]</td>\n",
       "      <td>{'hashtags': [], 'symbols': [], 'user_mentions...</td>\n",
       "      <td>{'media': [{'id': 892420639486877696, 'id_str'...</td>\n",
       "      <td>&lt;a href=\"http://twitter.com/download/iphone\" r...</td>\n",
       "      <td>NaN</td>\n",
       "      <td>...</td>\n",
       "      <td>39467</td>\n",
       "      <td>False</td>\n",
       "      <td>False</td>\n",
       "      <td>0.0</td>\n",
       "      <td>0.0</td>\n",
       "      <td>en</td>\n",
       "      <td>NaN</td>\n",
       "      <td>NaN</td>\n",
       "      <td>NaN</td>\n",
       "      <td>NaN</td>\n",
       "    </tr>\n",
       "    <tr>\n",
       "      <th>1</th>\n",
       "      <td>2017-08-01 00:17:27+00:00</td>\n",
       "      <td>892177421306343426</td>\n",
       "      <td>892177421306343424</td>\n",
       "      <td>This is Tilly. She's just checking pup on you....</td>\n",
       "      <td>False</td>\n",
       "      <td>[0, 138]</td>\n",
       "      <td>{'hashtags': [], 'symbols': [], 'user_mentions...</td>\n",
       "      <td>{'media': [{'id': 892177413194625024, 'id_str'...</td>\n",
       "      <td>&lt;a href=\"http://twitter.com/download/iphone\" r...</td>\n",
       "      <td>NaN</td>\n",
       "      <td>...</td>\n",
       "      <td>33819</td>\n",
       "      <td>False</td>\n",
       "      <td>False</td>\n",
       "      <td>0.0</td>\n",
       "      <td>0.0</td>\n",
       "      <td>en</td>\n",
       "      <td>NaN</td>\n",
       "      <td>NaN</td>\n",
       "      <td>NaN</td>\n",
       "      <td>NaN</td>\n",
       "    </tr>\n",
       "    <tr>\n",
       "      <th>2</th>\n",
       "      <td>2017-07-31 00:18:03+00:00</td>\n",
       "      <td>891815181378084864</td>\n",
       "      <td>891815181378084864</td>\n",
       "      <td>This is Archie. He is a rare Norwegian Pouncin...</td>\n",
       "      <td>False</td>\n",
       "      <td>[0, 121]</td>\n",
       "      <td>{'hashtags': [], 'symbols': [], 'user_mentions...</td>\n",
       "      <td>{'media': [{'id': 891815175371796480, 'id_str'...</td>\n",
       "      <td>&lt;a href=\"http://twitter.com/download/iphone\" r...</td>\n",
       "      <td>NaN</td>\n",
       "      <td>...</td>\n",
       "      <td>25461</td>\n",
       "      <td>False</td>\n",
       "      <td>False</td>\n",
       "      <td>0.0</td>\n",
       "      <td>0.0</td>\n",
       "      <td>en</td>\n",
       "      <td>NaN</td>\n",
       "      <td>NaN</td>\n",
       "      <td>NaN</td>\n",
       "      <td>NaN</td>\n",
       "    </tr>\n",
       "    <tr>\n",
       "      <th>3</th>\n",
       "      <td>2017-07-30 15:58:51+00:00</td>\n",
       "      <td>891689557279858688</td>\n",
       "      <td>891689557279858688</td>\n",
       "      <td>This is Darla. She commenced a snooze mid meal...</td>\n",
       "      <td>False</td>\n",
       "      <td>[0, 79]</td>\n",
       "      <td>{'hashtags': [], 'symbols': [], 'user_mentions...</td>\n",
       "      <td>{'media': [{'id': 891689552724799489, 'id_str'...</td>\n",
       "      <td>&lt;a href=\"http://twitter.com/download/iphone\" r...</td>\n",
       "      <td>NaN</td>\n",
       "      <td>...</td>\n",
       "      <td>42908</td>\n",
       "      <td>False</td>\n",
       "      <td>False</td>\n",
       "      <td>0.0</td>\n",
       "      <td>0.0</td>\n",
       "      <td>en</td>\n",
       "      <td>NaN</td>\n",
       "      <td>NaN</td>\n",
       "      <td>NaN</td>\n",
       "      <td>NaN</td>\n",
       "    </tr>\n",
       "    <tr>\n",
       "      <th>4</th>\n",
       "      <td>2017-07-29 16:00:24+00:00</td>\n",
       "      <td>891327558926688256</td>\n",
       "      <td>891327558926688256</td>\n",
       "      <td>This is Franklin. He would like you to stop ca...</td>\n",
       "      <td>False</td>\n",
       "      <td>[0, 138]</td>\n",
       "      <td>{'hashtags': [{'text': 'BarkWeek', 'indices': ...</td>\n",
       "      <td>{'media': [{'id': 891327551943041024, 'id_str'...</td>\n",
       "      <td>&lt;a href=\"http://twitter.com/download/iphone\" r...</td>\n",
       "      <td>NaN</td>\n",
       "      <td>...</td>\n",
       "      <td>41048</td>\n",
       "      <td>False</td>\n",
       "      <td>False</td>\n",
       "      <td>0.0</td>\n",
       "      <td>0.0</td>\n",
       "      <td>en</td>\n",
       "      <td>NaN</td>\n",
       "      <td>NaN</td>\n",
       "      <td>NaN</td>\n",
       "      <td>NaN</td>\n",
       "    </tr>\n",
       "    <tr>\n",
       "      <th>5</th>\n",
       "      <td>2017-07-29 00:08:17+00:00</td>\n",
       "      <td>891087950875897856</td>\n",
       "      <td>891087950875897856</td>\n",
       "      <td>Here we have a majestic great white breaching ...</td>\n",
       "      <td>False</td>\n",
       "      <td>[0, 138]</td>\n",
       "      <td>{'hashtags': [{'text': 'BarkWeek', 'indices': ...</td>\n",
       "      <td>{'media': [{'id': 891087942176911360, 'id_str'...</td>\n",
       "      <td>&lt;a href=\"http://twitter.com/download/iphone\" r...</td>\n",
       "      <td>NaN</td>\n",
       "      <td>...</td>\n",
       "      <td>20562</td>\n",
       "      <td>False</td>\n",
       "      <td>False</td>\n",
       "      <td>0.0</td>\n",
       "      <td>0.0</td>\n",
       "      <td>en</td>\n",
       "      <td>NaN</td>\n",
       "      <td>NaN</td>\n",
       "      <td>NaN</td>\n",
       "      <td>NaN</td>\n",
       "    </tr>\n",
       "    <tr>\n",
       "      <th>6</th>\n",
       "      <td>2017-07-28 16:27:12+00:00</td>\n",
       "      <td>890971913173991426</td>\n",
       "      <td>890971913173991424</td>\n",
       "      <td>Meet Jax. He enjoys ice cream so much he gets ...</td>\n",
       "      <td>False</td>\n",
       "      <td>[0, 140]</td>\n",
       "      <td>{'hashtags': [], 'symbols': [], 'user_mentions...</td>\n",
       "      <td>{'media': [{'id': 890971906207338496, 'id_str'...</td>\n",
       "      <td>&lt;a href=\"http://twitter.com/download/iphone\" r...</td>\n",
       "      <td>NaN</td>\n",
       "      <td>...</td>\n",
       "      <td>12041</td>\n",
       "      <td>False</td>\n",
       "      <td>False</td>\n",
       "      <td>0.0</td>\n",
       "      <td>0.0</td>\n",
       "      <td>en</td>\n",
       "      <td>NaN</td>\n",
       "      <td>NaN</td>\n",
       "      <td>NaN</td>\n",
       "      <td>NaN</td>\n",
       "    </tr>\n",
       "    <tr>\n",
       "      <th>7</th>\n",
       "      <td>2017-07-28 00:22:40+00:00</td>\n",
       "      <td>890729181411237888</td>\n",
       "      <td>890729181411237888</td>\n",
       "      <td>When you watch your owner call another dog a g...</td>\n",
       "      <td>False</td>\n",
       "      <td>[0, 118]</td>\n",
       "      <td>{'hashtags': [], 'symbols': [], 'user_mentions...</td>\n",
       "      <td>{'media': [{'id': 890729118844600320, 'id_str'...</td>\n",
       "      <td>&lt;a href=\"http://twitter.com/download/iphone\" r...</td>\n",
       "      <td>NaN</td>\n",
       "      <td>...</td>\n",
       "      <td>56848</td>\n",
       "      <td>False</td>\n",
       "      <td>False</td>\n",
       "      <td>0.0</td>\n",
       "      <td>0.0</td>\n",
       "      <td>en</td>\n",
       "      <td>NaN</td>\n",
       "      <td>NaN</td>\n",
       "      <td>NaN</td>\n",
       "      <td>NaN</td>\n",
       "    </tr>\n",
       "    <tr>\n",
       "      <th>8</th>\n",
       "      <td>2017-07-27 16:25:51+00:00</td>\n",
       "      <td>890609185150312448</td>\n",
       "      <td>890609185150312448</td>\n",
       "      <td>This is Zoey. She doesn't want to be one of th...</td>\n",
       "      <td>False</td>\n",
       "      <td>[0, 122]</td>\n",
       "      <td>{'hashtags': [{'text': 'BarkWeek', 'indices': ...</td>\n",
       "      <td>{'media': [{'id': 890609177319665665, 'id_str'...</td>\n",
       "      <td>&lt;a href=\"http://twitter.com/download/iphone\" r...</td>\n",
       "      <td>NaN</td>\n",
       "      <td>...</td>\n",
       "      <td>28226</td>\n",
       "      <td>False</td>\n",
       "      <td>False</td>\n",
       "      <td>0.0</td>\n",
       "      <td>0.0</td>\n",
       "      <td>en</td>\n",
       "      <td>NaN</td>\n",
       "      <td>NaN</td>\n",
       "      <td>NaN</td>\n",
       "      <td>NaN</td>\n",
       "    </tr>\n",
       "    <tr>\n",
       "      <th>9</th>\n",
       "      <td>2017-07-26 15:59:51+00:00</td>\n",
       "      <td>890240255349198849</td>\n",
       "      <td>890240255349198848</td>\n",
       "      <td>This is Cassie. She is a college pup. Studying...</td>\n",
       "      <td>False</td>\n",
       "      <td>[0, 133]</td>\n",
       "      <td>{'hashtags': [], 'symbols': [], 'user_mentions...</td>\n",
       "      <td>{'media': [{'id': 890240245463175168, 'id_str'...</td>\n",
       "      <td>&lt;a href=\"http://twitter.com/download/iphone\" r...</td>\n",
       "      <td>NaN</td>\n",
       "      <td>...</td>\n",
       "      <td>32467</td>\n",
       "      <td>False</td>\n",
       "      <td>False</td>\n",
       "      <td>0.0</td>\n",
       "      <td>0.0</td>\n",
       "      <td>en</td>\n",
       "      <td>NaN</td>\n",
       "      <td>NaN</td>\n",
       "      <td>NaN</td>\n",
       "      <td>NaN</td>\n",
       "    </tr>\n",
       "  </tbody>\n",
       "</table>\n",
       "<p>10 rows × 31 columns</p>\n",
       "</div>"
      ],
      "text/plain": [
       "                 created_at                  id              id_str  \\\n",
       "0 2017-08-01 16:23:56+00:00  892420643555336193  892420643555336192   \n",
       "1 2017-08-01 00:17:27+00:00  892177421306343426  892177421306343424   \n",
       "2 2017-07-31 00:18:03+00:00  891815181378084864  891815181378084864   \n",
       "3 2017-07-30 15:58:51+00:00  891689557279858688  891689557279858688   \n",
       "4 2017-07-29 16:00:24+00:00  891327558926688256  891327558926688256   \n",
       "5 2017-07-29 00:08:17+00:00  891087950875897856  891087950875897856   \n",
       "6 2017-07-28 16:27:12+00:00  890971913173991426  890971913173991424   \n",
       "7 2017-07-28 00:22:40+00:00  890729181411237888  890729181411237888   \n",
       "8 2017-07-27 16:25:51+00:00  890609185150312448  890609185150312448   \n",
       "9 2017-07-26 15:59:51+00:00  890240255349198849  890240255349198848   \n",
       "\n",
       "                                           full_text  truncated  \\\n",
       "0  This is Phineas. He's a mystical boy. Only eve...      False   \n",
       "1  This is Tilly. She's just checking pup on you....      False   \n",
       "2  This is Archie. He is a rare Norwegian Pouncin...      False   \n",
       "3  This is Darla. She commenced a snooze mid meal...      False   \n",
       "4  This is Franklin. He would like you to stop ca...      False   \n",
       "5  Here we have a majestic great white breaching ...      False   \n",
       "6  Meet Jax. He enjoys ice cream so much he gets ...      False   \n",
       "7  When you watch your owner call another dog a g...      False   \n",
       "8  This is Zoey. She doesn't want to be one of th...      False   \n",
       "9  This is Cassie. She is a college pup. Studying...      False   \n",
       "\n",
       "  display_text_range                                           entities  \\\n",
       "0            [0, 85]  {'hashtags': [], 'symbols': [], 'user_mentions...   \n",
       "1           [0, 138]  {'hashtags': [], 'symbols': [], 'user_mentions...   \n",
       "2           [0, 121]  {'hashtags': [], 'symbols': [], 'user_mentions...   \n",
       "3            [0, 79]  {'hashtags': [], 'symbols': [], 'user_mentions...   \n",
       "4           [0, 138]  {'hashtags': [{'text': 'BarkWeek', 'indices': ...   \n",
       "5           [0, 138]  {'hashtags': [{'text': 'BarkWeek', 'indices': ...   \n",
       "6           [0, 140]  {'hashtags': [], 'symbols': [], 'user_mentions...   \n",
       "7           [0, 118]  {'hashtags': [], 'symbols': [], 'user_mentions...   \n",
       "8           [0, 122]  {'hashtags': [{'text': 'BarkWeek', 'indices': ...   \n",
       "9           [0, 133]  {'hashtags': [], 'symbols': [], 'user_mentions...   \n",
       "\n",
       "                                   extended_entities  \\\n",
       "0  {'media': [{'id': 892420639486877696, 'id_str'...   \n",
       "1  {'media': [{'id': 892177413194625024, 'id_str'...   \n",
       "2  {'media': [{'id': 891815175371796480, 'id_str'...   \n",
       "3  {'media': [{'id': 891689552724799489, 'id_str'...   \n",
       "4  {'media': [{'id': 891327551943041024, 'id_str'...   \n",
       "5  {'media': [{'id': 891087942176911360, 'id_str'...   \n",
       "6  {'media': [{'id': 890971906207338496, 'id_str'...   \n",
       "7  {'media': [{'id': 890729118844600320, 'id_str'...   \n",
       "8  {'media': [{'id': 890609177319665665, 'id_str'...   \n",
       "9  {'media': [{'id': 890240245463175168, 'id_str'...   \n",
       "\n",
       "                                              source  in_reply_to_status_id  \\\n",
       "0  <a href=\"http://twitter.com/download/iphone\" r...                    NaN   \n",
       "1  <a href=\"http://twitter.com/download/iphone\" r...                    NaN   \n",
       "2  <a href=\"http://twitter.com/download/iphone\" r...                    NaN   \n",
       "3  <a href=\"http://twitter.com/download/iphone\" r...                    NaN   \n",
       "4  <a href=\"http://twitter.com/download/iphone\" r...                    NaN   \n",
       "5  <a href=\"http://twitter.com/download/iphone\" r...                    NaN   \n",
       "6  <a href=\"http://twitter.com/download/iphone\" r...                    NaN   \n",
       "7  <a href=\"http://twitter.com/download/iphone\" r...                    NaN   \n",
       "8  <a href=\"http://twitter.com/download/iphone\" r...                    NaN   \n",
       "9  <a href=\"http://twitter.com/download/iphone\" r...                    NaN   \n",
       "\n",
       "   ...  favorite_count  favorited  retweeted possibly_sensitive  \\\n",
       "0  ...           39467      False      False                0.0   \n",
       "1  ...           33819      False      False                0.0   \n",
       "2  ...           25461      False      False                0.0   \n",
       "3  ...           42908      False      False                0.0   \n",
       "4  ...           41048      False      False                0.0   \n",
       "5  ...           20562      False      False                0.0   \n",
       "6  ...           12041      False      False                0.0   \n",
       "7  ...           56848      False      False                0.0   \n",
       "8  ...           28226      False      False                0.0   \n",
       "9  ...           32467      False      False                0.0   \n",
       "\n",
       "  possibly_sensitive_appealable  lang  retweeted_status quoted_status_id  \\\n",
       "0                           0.0    en               NaN              NaN   \n",
       "1                           0.0    en               NaN              NaN   \n",
       "2                           0.0    en               NaN              NaN   \n",
       "3                           0.0    en               NaN              NaN   \n",
       "4                           0.0    en               NaN              NaN   \n",
       "5                           0.0    en               NaN              NaN   \n",
       "6                           0.0    en               NaN              NaN   \n",
       "7                           0.0    en               NaN              NaN   \n",
       "8                           0.0    en               NaN              NaN   \n",
       "9                           0.0    en               NaN              NaN   \n",
       "\n",
       "   quoted_status_id_str  quoted_status  \n",
       "0                   NaN            NaN  \n",
       "1                   NaN            NaN  \n",
       "2                   NaN            NaN  \n",
       "3                   NaN            NaN  \n",
       "4                   NaN            NaN  \n",
       "5                   NaN            NaN  \n",
       "6                   NaN            NaN  \n",
       "7                   NaN            NaN  \n",
       "8                   NaN            NaN  \n",
       "9                   NaN            NaN  \n",
       "\n",
       "[10 rows x 31 columns]"
      ]
     },
     "execution_count": 54,
     "metadata": {},
     "output_type": "execute_result"
    }
   ],
   "source": [
    "tweet_json_df.head(10)"
   ]
  },
  {
   "cell_type": "code",
   "execution_count": 55,
   "id": "9ccda13d",
   "metadata": {},
   "outputs": [
    {
     "data": {
      "text/plain": [
       "0.0    2211\n",
       "Name: possibly_sensitive, dtype: int64"
      ]
     },
     "execution_count": 55,
     "metadata": {},
     "output_type": "execute_result"
    }
   ],
   "source": [
    "tweet_json_df.possibly_sensitive.value_counts()"
   ]
  },
  {
   "cell_type": "markdown",
   "id": "f61137a1",
   "metadata": {},
   "source": [
    "- Since all values here are unique we can erase this column and note that the was no sensitive comment, in order to reduce \n",
    "the number of columns and make our data look less crowdy"
   ]
  },
  {
   "cell_type": "code",
   "execution_count": 56,
   "id": "e11f97f3",
   "metadata": {},
   "outputs": [
    {
     "data": {
      "text/plain": [
       "en     2336\n",
       "und       7\n",
       "in        3\n",
       "nl        3\n",
       "eu        1\n",
       "es        1\n",
       "tl        1\n",
       "ro        1\n",
       "et        1\n",
       "Name: lang, dtype: int64"
      ]
     },
     "execution_count": 56,
     "metadata": {},
     "output_type": "execute_result"
    }
   ],
   "source": [
    "tweet_json_df.lang.value_counts()"
   ]
  },
  {
   "cell_type": "code",
   "execution_count": 57,
   "id": "4d120962",
   "metadata": {},
   "outputs": [
    {
     "data": {
      "text/html": [
       "<div>\n",
       "<style scoped>\n",
       "    .dataframe tbody tr th:only-of-type {\n",
       "        vertical-align: middle;\n",
       "    }\n",
       "\n",
       "    .dataframe tbody tr th {\n",
       "        vertical-align: top;\n",
       "    }\n",
       "\n",
       "    .dataframe thead th {\n",
       "        text-align: right;\n",
       "    }\n",
       "</style>\n",
       "<table border=\"1\" class=\"dataframe\">\n",
       "  <thead>\n",
       "    <tr style=\"text-align: right;\">\n",
       "      <th></th>\n",
       "      <th>created_at</th>\n",
       "      <th>id</th>\n",
       "      <th>id_str</th>\n",
       "      <th>full_text</th>\n",
       "      <th>truncated</th>\n",
       "      <th>display_text_range</th>\n",
       "      <th>entities</th>\n",
       "      <th>extended_entities</th>\n",
       "      <th>source</th>\n",
       "      <th>in_reply_to_status_id</th>\n",
       "      <th>...</th>\n",
       "      <th>favorite_count</th>\n",
       "      <th>favorited</th>\n",
       "      <th>retweeted</th>\n",
       "      <th>possibly_sensitive</th>\n",
       "      <th>possibly_sensitive_appealable</th>\n",
       "      <th>lang</th>\n",
       "      <th>retweeted_status</th>\n",
       "      <th>quoted_status_id</th>\n",
       "      <th>quoted_status_id_str</th>\n",
       "      <th>quoted_status</th>\n",
       "    </tr>\n",
       "  </thead>\n",
       "  <tbody>\n",
       "    <tr>\n",
       "      <th>2187</th>\n",
       "      <td>2015-11-24 01:42:25+00:00</td>\n",
       "      <td>668967877119254528</td>\n",
       "      <td>668967877119254528</td>\n",
       "      <td>12/10 good shit Bubka\\n@wane15</td>\n",
       "      <td>False</td>\n",
       "      <td>[0, 29]</td>\n",
       "      <td>{'hashtags': [], 'symbols': [], 'user_mentions...</td>\n",
       "      <td>NaN</td>\n",
       "      <td>&lt;a href=\"http://twitter.com/download/iphone\" r...</td>\n",
       "      <td>6.689207e+17</td>\n",
       "      <td>...</td>\n",
       "      <td>161</td>\n",
       "      <td>False</td>\n",
       "      <td>False</td>\n",
       "      <td>NaN</td>\n",
       "      <td>NaN</td>\n",
       "      <td>tl</td>\n",
       "      <td>NaN</td>\n",
       "      <td>NaN</td>\n",
       "      <td>NaN</td>\n",
       "      <td>NaN</td>\n",
       "    </tr>\n",
       "  </tbody>\n",
       "</table>\n",
       "<p>1 rows × 31 columns</p>\n",
       "</div>"
      ],
      "text/plain": [
       "                    created_at                  id              id_str  \\\n",
       "2187 2015-11-24 01:42:25+00:00  668967877119254528  668967877119254528   \n",
       "\n",
       "                           full_text  truncated display_text_range  \\\n",
       "2187  12/10 good shit Bubka\\n@wane15      False            [0, 29]   \n",
       "\n",
       "                                               entities extended_entities  \\\n",
       "2187  {'hashtags': [], 'symbols': [], 'user_mentions...               NaN   \n",
       "\n",
       "                                                 source  \\\n",
       "2187  <a href=\"http://twitter.com/download/iphone\" r...   \n",
       "\n",
       "      in_reply_to_status_id  ...  favorite_count  favorited  retweeted  \\\n",
       "2187           6.689207e+17  ...             161      False      False   \n",
       "\n",
       "     possibly_sensitive possibly_sensitive_appealable  lang  retweeted_status  \\\n",
       "2187                NaN                           NaN    tl               NaN   \n",
       "\n",
       "     quoted_status_id  quoted_status_id_str  quoted_status  \n",
       "2187              NaN                   NaN            NaN  \n",
       "\n",
       "[1 rows x 31 columns]"
      ]
     },
     "execution_count": 57,
     "metadata": {},
     "output_type": "execute_result"
    }
   ],
   "source": [
    "tweet_json_df.query('lang==\"tl\"')"
   ]
  },
  {
   "cell_type": "markdown",
   "id": "fc4785c2",
   "metadata": {},
   "source": [
    "#### lastly, the twitter_archived dataset"
   ]
  },
  {
   "cell_type": "code",
   "execution_count": 58,
   "id": "6bdf0b9c",
   "metadata": {},
   "outputs": [
    {
     "name": "stdout",
     "output_type": "stream",
     "text": [
      "<class 'pandas.core.frame.DataFrame'>\n",
      "RangeIndex: 2356 entries, 0 to 2355\n",
      "Data columns (total 17 columns):\n",
      " #   Column                      Non-Null Count  Dtype  \n",
      "---  ------                      --------------  -----  \n",
      " 0   tweet_id                    2356 non-null   int64  \n",
      " 1   in_reply_to_status_id       78 non-null     float64\n",
      " 2   in_reply_to_user_id         78 non-null     float64\n",
      " 3   timestamp                   2356 non-null   object \n",
      " 4   source                      2356 non-null   object \n",
      " 5   text                        2356 non-null   object \n",
      " 6   retweeted_status_id         181 non-null    float64\n",
      " 7   retweeted_status_user_id    181 non-null    float64\n",
      " 8   retweeted_status_timestamp  181 non-null    object \n",
      " 9   expanded_urls               2297 non-null   object \n",
      " 10  rating_numerator            2356 non-null   int64  \n",
      " 11  rating_denominator          2356 non-null   int64  \n",
      " 12  name                        2356 non-null   object \n",
      " 13  doggo                       2356 non-null   object \n",
      " 14  floofer                     2356 non-null   object \n",
      " 15  pupper                      2356 non-null   object \n",
      " 16  puppo                       2356 non-null   object \n",
      "dtypes: float64(4), int64(3), object(10)\n",
      "memory usage: 313.0+ KB\n"
     ]
    }
   ],
   "source": [
    "twitter_archive_df.info()"
   ]
  },
  {
   "cell_type": "code",
   "execution_count": 59,
   "id": "b12f3169",
   "metadata": {},
   "outputs": [
    {
     "data": {
      "text/plain": [
       "2174"
      ]
     },
     "execution_count": 59,
     "metadata": {},
     "output_type": "execute_result"
    }
   ],
   "source": [
    "sum(twitter_archive_df.retweeted_status_id.duplicated())"
   ]
  },
  {
   "cell_type": "code",
   "execution_count": 60,
   "id": "a6b23617",
   "metadata": {},
   "outputs": [
    {
     "data": {
      "text/plain": [
       "0"
      ]
     },
     "execution_count": 60,
     "metadata": {},
     "output_type": "execute_result"
    }
   ],
   "source": [
    "sum(twitter_archive_df.tweet_id.duplicated())"
   ]
  },
  {
   "cell_type": "markdown",
   "id": "54807dd4",
   "metadata": {},
   "source": [
    "#### Addressing Quality issues\n",
    "- Columns with several empty enteries in the tweet_json dataset i.e in_reply_to_status_id, in_reply_to_status_id_str, in_reply_to_user_id,in_reply_to_user_id_str,in_reply_to_screen_name, quoted_status_id_str, quoted_status_id, quoted_status"
   ]
  },
  {
   "cell_type": "markdown",
   "id": "bbe3adc4",
   "metadata": {},
   "source": [
    "- Columns without any data i.e geo, coordinates, place, contributors,"
   ]
  },
  {
   "cell_type": "markdown",
   "id": "f9f94dd1",
   "metadata": {},
   "source": [
    "- The timestamp and retweeted_status_timestamp columns have incorrect datatypes i.e Object instead of datetime"
   ]
  },
  {
   "cell_type": "markdown",
   "id": "8ba7361c",
   "metadata": {},
   "source": [
    "- For the twitter_enhanced-archive dataset, the source column contains extra information in its records (added to the source of the tweet), which isn't of any use to us but rather adds a lot of jitter to the column"
   ]
  },
  {
   "cell_type": "markdown",
   "id": "9061017a",
   "metadata": {},
   "source": [
    "- For the tweet_json dataset, the source column contains extra information in its records as well, which isn't of any use to us but rather adds a lot of jitter to the column"
   ]
  },
  {
   "cell_type": "markdown",
   "id": "710be3c0",
   "metadata": {},
   "source": [
    "- Several columns in tweet_json are not of major importance for our visualisation and only serve as a distraction."
   ]
  },
  {
   "cell_type": "markdown",
   "id": "0f9d8d17",
   "metadata": {},
   "source": [
    "- For the twitter-enhanced column, we only want original ratings (no retweets) that have images. Though there are 5000+ tweets in the dataset, not all are dog ratings and some are retweets."
   ]
  },
  {
   "cell_type": "markdown",
   "id": "04a1410b",
   "metadata": {},
   "source": [
    "- In the tweet_json data, the column lang contains information about the languages which is abbreviated but not easy to identify which language is being referred to"
   ]
  },
  {
   "cell_type": "markdown",
   "id": "f57d5cab",
   "metadata": {},
   "source": [
    "- the names column in the twitter archive enhanced dataset contains several invalid names."
   ]
  },
  {
   "cell_type": "markdown",
   "id": "71836889",
   "metadata": {},
   "source": [
    "#### Let us prepare for the cleaning phase by making a copy of each dataset."
   ]
  },
  {
   "cell_type": "code",
   "execution_count": 143,
   "id": "05e2edff",
   "metadata": {},
   "outputs": [],
   "source": [
    "#Let us make a copy of each dataframe and work on those for the cleaning\n",
    "tj_copy = tweet_json_df.copy()\n",
    "ta_copy=twitter_archive_df.copy()\n",
    "ip_copy = image_predictions_df.copy()"
   ]
  },
  {
   "cell_type": "markdown",
   "id": "37192762",
   "metadata": {},
   "source": [
    "## Data Cleaning\n",
    "\n",
    "Let's begin with tweet_json dataset\n",
    "\n",
    "#### Define"
   ]
  },
  {
   "cell_type": "markdown",
   "id": "34deb793",
   "metadata": {},
   "source": [
    "A lot of null data in the tweet_json dataset and columns with only few data"
   ]
  },
  {
   "cell_type": "markdown",
   "id": "d6c2d628",
   "metadata": {},
   "source": [
    "#### Code\n"
   ]
  },
  {
   "cell_type": "code",
   "execution_count": 144,
   "id": "7fc8a316",
   "metadata": {},
   "outputs": [],
   "source": [
    "# given this columns have extremely few entries and isn't of prior importance for our visualisation, we will delete them\n",
    "# Deleting geo, coordinates, place, contributors columns\n",
    "tj_copy.drop('geo', axis=1, inplace=True)\n",
    "tj_copy.drop('coordinates', axis=1, inplace=True)\n",
    "tj_copy.drop('place', axis=1, inplace=True)\n",
    "tj_copy.drop('contributors', axis=1, inplace=True)"
   ]
  },
  {
   "cell_type": "markdown",
   "id": "35041526",
   "metadata": {},
   "source": [
    "#### Test"
   ]
  },
  {
   "cell_type": "code",
   "execution_count": 145,
   "id": "60abfc79",
   "metadata": {},
   "outputs": [
    {
     "name": "stdout",
     "output_type": "stream",
     "text": [
      "<class 'pandas.core.frame.DataFrame'>\n",
      "RangeIndex: 2354 entries, 0 to 2353\n",
      "Data columns (total 27 columns):\n",
      " #   Column                         Non-Null Count  Dtype              \n",
      "---  ------                         --------------  -----              \n",
      " 0   created_at                     2354 non-null   datetime64[ns, UTC]\n",
      " 1   id                             2354 non-null   int64              \n",
      " 2   id_str                         2354 non-null   int64              \n",
      " 3   full_text                      2354 non-null   object             \n",
      " 4   truncated                      2354 non-null   bool               \n",
      " 5   display_text_range             2354 non-null   object             \n",
      " 6   entities                       2354 non-null   object             \n",
      " 7   extended_entities              2073 non-null   object             \n",
      " 8   source                         2354 non-null   object             \n",
      " 9   in_reply_to_status_id          78 non-null     float64            \n",
      " 10  in_reply_to_status_id_str      78 non-null     float64            \n",
      " 11  in_reply_to_user_id            78 non-null     float64            \n",
      " 12  in_reply_to_user_id_str        78 non-null     float64            \n",
      " 13  in_reply_to_screen_name        78 non-null     object             \n",
      " 14  user                           2354 non-null   object             \n",
      " 15  is_quote_status                2354 non-null   bool               \n",
      " 16  retweet_count                  2354 non-null   int64              \n",
      " 17  favorite_count                 2354 non-null   int64              \n",
      " 18  favorited                      2354 non-null   bool               \n",
      " 19  retweeted                      2354 non-null   bool               \n",
      " 20  possibly_sensitive             2211 non-null   float64            \n",
      " 21  possibly_sensitive_appealable  2211 non-null   float64            \n",
      " 22  lang                           2354 non-null   object             \n",
      " 23  retweeted_status               179 non-null    object             \n",
      " 24  quoted_status_id               29 non-null     float64            \n",
      " 25  quoted_status_id_str           29 non-null     float64            \n",
      " 26  quoted_status                  28 non-null     object             \n",
      "dtypes: bool(4), datetime64[ns, UTC](1), float64(8), int64(4), object(10)\n",
      "memory usage: 432.3+ KB\n"
     ]
    }
   ],
   "source": [
    "tj_copy.info()"
   ]
  },
  {
   "cell_type": "markdown",
   "id": "20961609",
   "metadata": {},
   "source": [
    "#### Define\n",
    "Columns with several empty enteries in the tweet_json dataset \n",
    "#### Code"
   ]
  },
  {
   "cell_type": "code",
   "execution_count": 146,
   "id": "52fc705d",
   "metadata": {},
   "outputs": [],
   "source": [
    "#Deleting columns with no entries using a for loop\n",
    "delete = ['in_reply_to_status_id','in_reply_to_status_id_str','in_reply_to_user_id','in_reply_to_user_id_str','in_reply_to_screen_name'\n",
    "         ,'quoted_status_id','quoted_status_id_str','quoted_status','retweeted_status']\n",
    "for x in delete:\n",
    "    tj_copy.drop(x, axis=1, inplace=True)"
   ]
  },
  {
   "cell_type": "markdown",
   "id": "b711d3c9",
   "metadata": {},
   "source": [
    "#### Test"
   ]
  },
  {
   "cell_type": "code",
   "execution_count": 147,
   "id": "3aede10b",
   "metadata": {},
   "outputs": [
    {
     "name": "stdout",
     "output_type": "stream",
     "text": [
      "<class 'pandas.core.frame.DataFrame'>\n",
      "RangeIndex: 2354 entries, 0 to 2353\n",
      "Data columns (total 18 columns):\n",
      " #   Column                         Non-Null Count  Dtype              \n",
      "---  ------                         --------------  -----              \n",
      " 0   created_at                     2354 non-null   datetime64[ns, UTC]\n",
      " 1   id                             2354 non-null   int64              \n",
      " 2   id_str                         2354 non-null   int64              \n",
      " 3   full_text                      2354 non-null   object             \n",
      " 4   truncated                      2354 non-null   bool               \n",
      " 5   display_text_range             2354 non-null   object             \n",
      " 6   entities                       2354 non-null   object             \n",
      " 7   extended_entities              2073 non-null   object             \n",
      " 8   source                         2354 non-null   object             \n",
      " 9   user                           2354 non-null   object             \n",
      " 10  is_quote_status                2354 non-null   bool               \n",
      " 11  retweet_count                  2354 non-null   int64              \n",
      " 12  favorite_count                 2354 non-null   int64              \n",
      " 13  favorited                      2354 non-null   bool               \n",
      " 14  retweeted                      2354 non-null   bool               \n",
      " 15  possibly_sensitive             2211 non-null   float64            \n",
      " 16  possibly_sensitive_appealable  2211 non-null   float64            \n",
      " 17  lang                           2354 non-null   object             \n",
      "dtypes: bool(4), datetime64[ns, UTC](1), float64(2), int64(4), object(7)\n",
      "memory usage: 266.8+ KB\n"
     ]
    }
   ],
   "source": [
    "tj_copy.info()"
   ]
  },
  {
   "cell_type": "markdown",
   "id": "480b164e",
   "metadata": {},
   "source": [
    "#### Define\n",
    "Several columns are not of major importance for our visualisation and only serve as a distraction\n",
    "#### Code"
   ]
  },
  {
   "cell_type": "code",
   "execution_count": 148,
   "id": "e4e37c5f",
   "metadata": {},
   "outputs": [],
   "source": [
    "#drop columns which are not useful for us\n",
    "drop = ['truncated','display_text_range','retweeted','entities','is_quote_status',\n",
    "'extended_entities','possibly_sensitive','possibly_sensitive_appealable','favorited','user']\n",
    "for y in drop:\n",
    "    tj_copy.drop(y, axis=1, inplace=True)"
   ]
  },
  {
   "cell_type": "markdown",
   "id": "19031325",
   "metadata": {},
   "source": [
    "#### Test"
   ]
  },
  {
   "cell_type": "code",
   "execution_count": 149,
   "id": "14158746",
   "metadata": {},
   "outputs": [
    {
     "name": "stdout",
     "output_type": "stream",
     "text": [
      "<class 'pandas.core.frame.DataFrame'>\n",
      "RangeIndex: 2354 entries, 0 to 2353\n",
      "Data columns (total 8 columns):\n",
      " #   Column          Non-Null Count  Dtype              \n",
      "---  ------          --------------  -----              \n",
      " 0   created_at      2354 non-null   datetime64[ns, UTC]\n",
      " 1   id              2354 non-null   int64              \n",
      " 2   id_str          2354 non-null   int64              \n",
      " 3   full_text       2354 non-null   object             \n",
      " 4   source          2354 non-null   object             \n",
      " 5   retweet_count   2354 non-null   int64              \n",
      " 6   favorite_count  2354 non-null   int64              \n",
      " 7   lang            2354 non-null   object             \n",
      "dtypes: datetime64[ns, UTC](1), int64(4), object(3)\n",
      "memory usage: 147.2+ KB\n"
     ]
    }
   ],
   "source": [
    "tj_copy.info()"
   ]
  },
  {
   "cell_type": "markdown",
   "id": "06e9014c",
   "metadata": {},
   "source": [
    "#### Define\n",
    "The source column contains extra information in its records added to the source of the tweet\n",
    "#### Code"
   ]
  },
  {
   "cell_type": "code",
   "execution_count": 150,
   "id": "4c030c02",
   "metadata": {},
   "outputs": [],
   "source": [
    "#extract the tweet source out of the link\n",
    "tj_copy['source'] = tj_copy['source'].str.extract('^<a.+>(.+)</a>$')\n"
   ]
  },
  {
   "cell_type": "markdown",
   "id": "2fe53dfc",
   "metadata": {},
   "source": [
    "#### Test"
   ]
  },
  {
   "cell_type": "code",
   "execution_count": 151,
   "id": "873708a9",
   "metadata": {},
   "outputs": [
    {
     "data": {
      "text/plain": [
       "Twitter for iPhone     2219\n",
       "Vine - Make a Scene      91\n",
       "Twitter Web Client       33\n",
       "TweetDeck                11\n",
       "Name: source, dtype: int64"
      ]
     },
     "execution_count": 151,
     "metadata": {},
     "output_type": "execute_result"
    }
   ],
   "source": [
    "tj_copy['source'].value_counts()"
   ]
  },
  {
   "cell_type": "markdown",
   "id": "525fecbf",
   "metadata": {},
   "source": [
    "#### Define\n",
    "Not easily identifiable languages\n",
    "#### Code"
   ]
  },
  {
   "cell_type": "code",
   "execution_count": 152,
   "id": "d4953792",
   "metadata": {},
   "outputs": [],
   "source": [
    "#replacing entries of the lang column with their corresponding languages\n",
    "#this values were colected here: https://www.iana.org/assignments/language-subtag-registry/language-subtag-registry\n",
    "tj_copy.replace({'lang': {'en':'English', \n",
    "                              'und': 'Undetermined',\n",
    "                              'in':'Indian',\n",
    "                              'nl':'Dutch',\n",
    "                              'eu':'Basque',\n",
    "                              'es':'Spanish',\n",
    "                              'tl':'tetela',\n",
    "                              'ro':'Romanian',\n",
    "                              'et':'Etruscan'}}, inplace=True)\n",
    "        "
   ]
  },
  {
   "cell_type": "markdown",
   "id": "3872315f",
   "metadata": {},
   "source": [
    "#### Test"
   ]
  },
  {
   "cell_type": "code",
   "execution_count": 153,
   "id": "bc8b99ed",
   "metadata": {},
   "outputs": [
    {
     "data": {
      "text/plain": [
       "English         2336\n",
       "Undetermined       7\n",
       "Indian             3\n",
       "Dutch              3\n",
       "Basque             1\n",
       "Spanish            1\n",
       "tetela             1\n",
       "Romanian           1\n",
       "Etruscan           1\n",
       "Name: lang, dtype: int64"
      ]
     },
     "execution_count": 153,
     "metadata": {},
     "output_type": "execute_result"
    }
   ],
   "source": [
    "tj_copy.lang.value_counts()"
   ]
  },
  {
   "cell_type": "markdown",
   "id": "9a2c8a4e",
   "metadata": {},
   "source": [
    "#### Define\n",
    "The timestamp and retweeted_status_timestamp columns have incorrect datatypes i.e Object instead of datetime\n",
    "#### Code"
   ]
  },
  {
   "cell_type": "code",
   "execution_count": 154,
   "id": "6f9007b2",
   "metadata": {},
   "outputs": [],
   "source": [
    "\n",
    "#Now we convert the timestamp columns' datatype from object to datetime\n",
    "ta_copy['timestamp']=ta_copy['timestamp'].astype('datetime64[ns]')\n",
    "ta_copy['retweeted_status_timestamp']=ta_copy['retweeted_status_timestamp'].astype('datetime64[ns]')"
   ]
  },
  {
   "cell_type": "markdown",
   "id": "11426b93",
   "metadata": {},
   "source": [
    "#### Test"
   ]
  },
  {
   "cell_type": "code",
   "execution_count": 155,
   "id": "5291f5c7",
   "metadata": {},
   "outputs": [
    {
     "name": "stdout",
     "output_type": "stream",
     "text": [
      "<class 'pandas.core.frame.DataFrame'>\n",
      "RangeIndex: 2356 entries, 0 to 2355\n",
      "Data columns (total 17 columns):\n",
      " #   Column                      Non-Null Count  Dtype         \n",
      "---  ------                      --------------  -----         \n",
      " 0   tweet_id                    2356 non-null   int64         \n",
      " 1   in_reply_to_status_id       78 non-null     float64       \n",
      " 2   in_reply_to_user_id         78 non-null     float64       \n",
      " 3   timestamp                   2356 non-null   datetime64[ns]\n",
      " 4   source                      2356 non-null   object        \n",
      " 5   text                        2356 non-null   object        \n",
      " 6   retweeted_status_id         181 non-null    float64       \n",
      " 7   retweeted_status_user_id    181 non-null    float64       \n",
      " 8   retweeted_status_timestamp  181 non-null    datetime64[ns]\n",
      " 9   expanded_urls               2297 non-null   object        \n",
      " 10  rating_numerator            2356 non-null   int64         \n",
      " 11  rating_denominator          2356 non-null   int64         \n",
      " 12  name                        2356 non-null   object        \n",
      " 13  doggo                       2356 non-null   object        \n",
      " 14  floofer                     2356 non-null   object        \n",
      " 15  pupper                      2356 non-null   object        \n",
      " 16  puppo                       2356 non-null   object        \n",
      "dtypes: datetime64[ns](2), float64(4), int64(3), object(8)\n",
      "memory usage: 313.0+ KB\n"
     ]
    }
   ],
   "source": [
    "ta_copy.info()"
   ]
  },
  {
   "cell_type": "markdown",
   "id": "3a0519a9",
   "metadata": {},
   "source": [
    "Let's proceed with the twitter_enhanced dataset\n",
    "#### Define\n",
    "The source column contains extra information in its records added to the source of the tweet\n",
    "#### Code\n"
   ]
  },
  {
   "cell_type": "code",
   "execution_count": 156,
   "id": "48442fa8",
   "metadata": {},
   "outputs": [],
   "source": [
    "#extract the tweet source out of the link\n",
    "ta_copy['source'] = ta_copy['source'].str.extract('^<a.+>(.+)</a>$')"
   ]
  },
  {
   "cell_type": "markdown",
   "id": "4c491e62",
   "metadata": {},
   "source": [
    "#### Test"
   ]
  },
  {
   "cell_type": "code",
   "execution_count": 157,
   "id": "0111a852",
   "metadata": {},
   "outputs": [
    {
     "data": {
      "text/plain": [
       "Twitter for iPhone     2221\n",
       "Vine - Make a Scene      91\n",
       "Twitter Web Client       33\n",
       "TweetDeck                11\n",
       "Name: source, dtype: int64"
      ]
     },
     "execution_count": 157,
     "metadata": {},
     "output_type": "execute_result"
    }
   ],
   "source": [
    "ta_copy['source'].value_counts()"
   ]
  },
  {
   "cell_type": "markdown",
   "id": "1a31ee12",
   "metadata": {},
   "source": [
    "#### Define\n",
    "For the twitter-archive-enhanced dataset, we only want original ratings (no retweets) that have images.\n",
    "#### Code"
   ]
  },
  {
   "cell_type": "code",
   "execution_count": 158,
   "id": "28b36f86",
   "metadata": {},
   "outputs": [],
   "source": [
    "#drop all rows with retweet_status_id\n",
    "#first we get all rows whose retweet entry and replies to those tweets are not null, by their index\n",
    "retweet = ta_copy[pd.notnull(ta_copy['retweeted_status_id'])].index\n",
    "replies = ta_copy[pd.notnull(ta_copy['in_reply_to_user_id'])].index\n",
    "#then we delete these rows\n",
    "ta_copy.drop(retweet, axis=0, inplace=True)\n",
    "ta_copy.drop(replies, axis=0, inplace=True)"
   ]
  },
  {
   "cell_type": "markdown",
   "id": "7719c9f9",
   "metadata": {},
   "source": [
    "#### Test"
   ]
  },
  {
   "cell_type": "code",
   "execution_count": 159,
   "id": "5a4e489f",
   "metadata": {},
   "outputs": [
    {
     "name": "stdout",
     "output_type": "stream",
     "text": [
      "<class 'pandas.core.frame.DataFrame'>\n",
      "Int64Index: 2097 entries, 0 to 2355\n",
      "Data columns (total 17 columns):\n",
      " #   Column                      Non-Null Count  Dtype         \n",
      "---  ------                      --------------  -----         \n",
      " 0   tweet_id                    2097 non-null   int64         \n",
      " 1   in_reply_to_status_id       0 non-null      float64       \n",
      " 2   in_reply_to_user_id         0 non-null      float64       \n",
      " 3   timestamp                   2097 non-null   datetime64[ns]\n",
      " 4   source                      2097 non-null   object        \n",
      " 5   text                        2097 non-null   object        \n",
      " 6   retweeted_status_id         0 non-null      float64       \n",
      " 7   retweeted_status_user_id    0 non-null      float64       \n",
      " 8   retweeted_status_timestamp  0 non-null      datetime64[ns]\n",
      " 9   expanded_urls               2094 non-null   object        \n",
      " 10  rating_numerator            2097 non-null   int64         \n",
      " 11  rating_denominator          2097 non-null   int64         \n",
      " 12  name                        2097 non-null   object        \n",
      " 13  doggo                       2097 non-null   object        \n",
      " 14  floofer                     2097 non-null   object        \n",
      " 15  pupper                      2097 non-null   object        \n",
      " 16  puppo                       2097 non-null   object        \n",
      "dtypes: datetime64[ns](2), float64(4), int64(3), object(8)\n",
      "memory usage: 294.9+ KB\n"
     ]
    }
   ],
   "source": [
    "ta_copy.info()"
   ]
  },
  {
   "cell_type": "markdown",
   "id": "3ecf7f5a",
   "metadata": {},
   "source": [
    "#### Define\n",
    "For the twitter archive dataset, there are four columns() which are not individually variables but point to the same type of observation\n",
    "#### Code"
   ]
  },
  {
   "cell_type": "code",
   "execution_count": 160,
   "id": "9ec4c098",
   "metadata": {},
   "outputs": [],
   "source": [
    "#create a list for the dog stages\n",
    "dog_stages = ['doggo', 'floofer', 'pupper', 'puppo']\n",
    "\n",
    "#create the column in the twitter_archive dataset's copy and replace none with nan\n",
    "ta_copy[dog_stages] = ta_copy[dog_stages].replace('None', np.nan)\n",
    "\n",
    "def join_all(x):\n",
    "    return ', '.join(x.dropna().astype(str)) # 'puppo' 'doggo' 'NaN' ' NaN' = 'puppo, doggo, '\n",
    "\n",
    "ta_copy['dog_stages'] = ta_copy[dog_stages].apply(join_all, axis=1)\n",
    "\n",
    "#replace empty string with nan\n",
    "ta_copy['dog_stages'] = ta_copy['dog_stages'].replace('', np.nan)"
   ]
  },
  {
   "cell_type": "code",
   "execution_count": 161,
   "id": "d3d4ec59",
   "metadata": {},
   "outputs": [],
   "source": [
    "#drop the four column: doggo, floofer, pupper, puppo\n",
    "ta_copy.drop(dog_stages, axis=1, inplace=True)"
   ]
  },
  {
   "cell_type": "markdown",
   "id": "227d3649",
   "metadata": {},
   "source": [
    "#### Test"
   ]
  },
  {
   "cell_type": "code",
   "execution_count": 162,
   "id": "c28cf039",
   "metadata": {},
   "outputs": [
    {
     "name": "stdout",
     "output_type": "stream",
     "text": [
      "<class 'pandas.core.frame.DataFrame'>\n",
      "Int64Index: 2097 entries, 0 to 2355\n",
      "Data columns (total 14 columns):\n",
      " #   Column                      Non-Null Count  Dtype         \n",
      "---  ------                      --------------  -----         \n",
      " 0   tweet_id                    2097 non-null   int64         \n",
      " 1   in_reply_to_status_id       0 non-null      float64       \n",
      " 2   in_reply_to_user_id         0 non-null      float64       \n",
      " 3   timestamp                   2097 non-null   datetime64[ns]\n",
      " 4   source                      2097 non-null   object        \n",
      " 5   text                        2097 non-null   object        \n",
      " 6   retweeted_status_id         0 non-null      float64       \n",
      " 7   retweeted_status_user_id    0 non-null      float64       \n",
      " 8   retweeted_status_timestamp  0 non-null      datetime64[ns]\n",
      " 9   expanded_urls               2094 non-null   object        \n",
      " 10  rating_numerator            2097 non-null   int64         \n",
      " 11  rating_denominator          2097 non-null   int64         \n",
      " 12  name                        2097 non-null   object        \n",
      " 13  dog_stages                  336 non-null    object        \n",
      "dtypes: datetime64[ns](2), float64(4), int64(3), object(5)\n",
      "memory usage: 245.7+ KB\n"
     ]
    }
   ],
   "source": [
    "ta_copy.info()"
   ]
  },
  {
   "cell_type": "code",
   "execution_count": 163,
   "id": "37d92fcd",
   "metadata": {},
   "outputs": [
    {
     "data": {
      "text/plain": [
       "pupper            221\n",
       "doggo              72\n",
       "puppo              23\n",
       "floofer             9\n",
       "doggo, pupper       9\n",
       "doggo, puppo        1\n",
       "doggo, floofer      1\n",
       "Name: dog_stages, dtype: int64"
      ]
     },
     "execution_count": 163,
     "metadata": {},
     "output_type": "execute_result"
    }
   ],
   "source": [
    "ta_copy.dog_stages.value_counts()"
   ]
  },
  {
   "cell_type": "markdown",
   "id": "38d3935f",
   "metadata": {},
   "source": [
    "#### Define\n",
    "Invalid names in the name column\n",
    "#### Code"
   ]
  },
  {
   "cell_type": "code",
   "execution_count": 164,
   "id": "5d52f47d",
   "metadata": {},
   "outputs": [],
   "source": [
    "ta_copy['name'].mask(ta_copy.name.str.match(r'^[a-z]+$'), inplace = True)"
   ]
  },
  {
   "cell_type": "markdown",
   "id": "06c81ac7",
   "metadata": {},
   "source": [
    "#### Test"
   ]
  },
  {
   "cell_type": "code",
   "execution_count": 165,
   "id": "03aa61b7",
   "metadata": {},
   "outputs": [
    {
     "data": {
      "text/plain": [
       "False    1993\n",
       "Name: name, dtype: int64"
      ]
     },
     "execution_count": 165,
     "metadata": {},
     "output_type": "execute_result"
    }
   ],
   "source": [
    "ta_copy.name.str.islower().value_counts()"
   ]
  },
  {
   "cell_type": "markdown",
   "id": "adf2aa5b",
   "metadata": {},
   "source": [
    "#### Define\n",
    "Information on the final breed is not obvious\n",
    "#### Code"
   ]
  },
  {
   "cell_type": "code",
   "execution_count": 166,
   "id": "66f1fa6c",
   "metadata": {},
   "outputs": [],
   "source": [
    "\n",
    "#use np.select to create array of accurately predicted breeds\n",
    "condlist =  [(ip_copy['p1_dog'] == True), (ip_copy['p2_dog'] == True), (ip_copy['p3_dog'] == True)]\n",
    "\n",
    "choicelist = [ip_copy['p1'],ip_copy['p2'], ip_copy['p3']]\n",
    "\n",
    "choicelist2 = [ip_copy['p1_conf'], ip_copy['p2_conf'], ip_copy['p3_conf']]\n",
    "#create columns to house the accurate breed and confidence degree\n",
    "ip_copy['breed'] = np.select(condlist,choicelist, default='None' )\n",
    "ip_copy['conf_degree'] = np.select(condlist,choicelist2, default=0 )"
   ]
  },
  {
   "cell_type": "markdown",
   "id": "72cb7e36",
   "metadata": {},
   "source": [
    "#### Test"
   ]
  },
  {
   "cell_type": "code",
   "execution_count": 167,
   "id": "7e404fe0",
   "metadata": {},
   "outputs": [
    {
     "name": "stdout",
     "output_type": "stream",
     "text": [
      "<class 'pandas.core.frame.DataFrame'>\n",
      "RangeIndex: 2075 entries, 0 to 2074\n",
      "Data columns (total 14 columns):\n",
      " #   Column       Non-Null Count  Dtype  \n",
      "---  ------       --------------  -----  \n",
      " 0   tweet_id     2075 non-null   int64  \n",
      " 1   jpg_url      2075 non-null   object \n",
      " 2   img_num      2075 non-null   int64  \n",
      " 3   p1           2075 non-null   object \n",
      " 4   p1_conf      2075 non-null   float64\n",
      " 5   p1_dog       2075 non-null   bool   \n",
      " 6   p2           2075 non-null   object \n",
      " 7   p2_conf      2075 non-null   float64\n",
      " 8   p2_dog       2075 non-null   bool   \n",
      " 9   p3           2075 non-null   object \n",
      " 10  p3_conf      2075 non-null   float64\n",
      " 11  p3_dog       2075 non-null   bool   \n",
      " 12  breed        2075 non-null   object \n",
      " 13  conf_degree  2075 non-null   float64\n",
      "dtypes: bool(3), float64(4), int64(2), object(5)\n",
      "memory usage: 184.5+ KB\n"
     ]
    }
   ],
   "source": [
    "ip_copy.info()"
   ]
  },
  {
   "cell_type": "markdown",
   "id": "ec835ed1",
   "metadata": {},
   "source": [
    "#### Define\n",
    "the datasets twitter_json,image_predictions and twitter_enhanced all observe data of the same nature(related data)\n",
    "#### Code"
   ]
  },
  {
   "cell_type": "code",
   "execution_count": 95,
   "id": "5e767960",
   "metadata": {},
   "outputs": [],
   "source": [
    "#renaming columns to match for merging\n",
    "tj_copy.rename(columns={'id':'tweet_id'}, inplace=True)\n",
    "#combining image predictions and twitter archive datasets\n",
    "combined_df = pd.merge(ip_copy, ta_copy, on='tweet_id', how='right')\n",
    "#merging the combined df to the tweet_json df\n",
    "combined_df = pd.merge(combined_df, tj_copy, on='tweet_id', how='inner')"
   ]
  },
  {
   "cell_type": "code",
   "execution_count": 96,
   "id": "c2855701",
   "metadata": {},
   "outputs": [
    {
     "name": "stdout",
     "output_type": "stream",
     "text": [
      "<class 'pandas.core.frame.DataFrame'>\n",
      "Int64Index: 2097 entries, 0 to 2096\n",
      "Data columns (total 34 columns):\n",
      " #   Column                      Non-Null Count  Dtype              \n",
      "---  ------                      --------------  -----              \n",
      " 0   tweet_id                    2097 non-null   int64              \n",
      " 1   jpg_url                     1971 non-null   object             \n",
      " 2   img_num                     1971 non-null   float64            \n",
      " 3   p1                          1971 non-null   object             \n",
      " 4   p1_conf                     1971 non-null   float64            \n",
      " 5   p1_dog                      1971 non-null   object             \n",
      " 6   p2                          1971 non-null   object             \n",
      " 7   p2_conf                     1971 non-null   float64            \n",
      " 8   p2_dog                      1971 non-null   object             \n",
      " 9   p3                          1971 non-null   object             \n",
      " 10  p3_conf                     1971 non-null   float64            \n",
      " 11  p3_dog                      1971 non-null   object             \n",
      " 12  breed                       1971 non-null   object             \n",
      " 13  conf_degree                 1971 non-null   float64            \n",
      " 14  in_reply_to_status_id       0 non-null      float64            \n",
      " 15  in_reply_to_user_id         0 non-null      float64            \n",
      " 16  timestamp                   2097 non-null   datetime64[ns]     \n",
      " 17  source_x                    2097 non-null   object             \n",
      " 18  text                        2097 non-null   object             \n",
      " 19  retweeted_status_id         0 non-null      float64            \n",
      " 20  retweeted_status_user_id    0 non-null      float64            \n",
      " 21  retweeted_status_timestamp  0 non-null      datetime64[ns]     \n",
      " 22  expanded_urls               2094 non-null   object             \n",
      " 23  rating_numerator            2097 non-null   int64              \n",
      " 24  rating_denominator          2097 non-null   int64              \n",
      " 25  name                        2097 non-null   object             \n",
      " 26  dog_stages                  336 non-null    object             \n",
      " 27  created_at                  2097 non-null   datetime64[ns, UTC]\n",
      " 28  id_str                      2097 non-null   int64              \n",
      " 29  full_text                   2097 non-null   object             \n",
      " 30  source_y                    2097 non-null   object             \n",
      " 31  retweet_count               2097 non-null   int64              \n",
      " 32  favorite_count              2097 non-null   int64              \n",
      " 33  lang                        2097 non-null   object             \n",
      "dtypes: datetime64[ns, UTC](1), datetime64[ns](2), float64(9), int64(6), object(16)\n",
      "memory usage: 573.4+ KB\n"
     ]
    }
   ],
   "source": [
    "combined_df.info()"
   ]
  },
  {
   "cell_type": "code",
   "execution_count": 97,
   "id": "020538db",
   "metadata": {},
   "outputs": [],
   "source": [
    "#dropping columns with no entries\n",
    "out = ['in_reply_to_status_id','in_reply_to_user_id','retweeted_status_id','retweeted_status_user_id','retweeted_status_timestamp'\n",
    "      ]\n",
    "for x in out:\n",
    "    combined_df.drop(x, axis=1, inplace=True)"
   ]
  },
  {
   "cell_type": "code",
   "execution_count": 98,
   "id": "7c937aa4",
   "metadata": {},
   "outputs": [],
   "source": [
    "combined_df.to_csv('twitter_master.csv', index=False)"
   ]
  },
  {
   "cell_type": "markdown",
   "id": "a5d23655",
   "metadata": {},
   "source": [
    "##  Data Analysis and visualisation"
   ]
  },
  {
   "cell_type": "code",
   "execution_count": 99,
   "id": "ff4b93d9",
   "metadata": {},
   "outputs": [
    {
     "name": "stdout",
     "output_type": "stream",
     "text": [
      "<class 'pandas.core.frame.DataFrame'>\n",
      "RangeIndex: 2097 entries, 0 to 2096\n",
      "Data columns (total 29 columns):\n",
      " #   Column              Non-Null Count  Dtype  \n",
      "---  ------              --------------  -----  \n",
      " 0   tweet_id            2097 non-null   int64  \n",
      " 1   jpg_url             1971 non-null   object \n",
      " 2   img_num             1971 non-null   float64\n",
      " 3   p1                  1971 non-null   object \n",
      " 4   p1_conf             1971 non-null   float64\n",
      " 5   p1_dog              1971 non-null   object \n",
      " 6   p2                  1971 non-null   object \n",
      " 7   p2_conf             1971 non-null   float64\n",
      " 8   p2_dog              1971 non-null   object \n",
      " 9   p3                  1971 non-null   object \n",
      " 10  p3_conf             1971 non-null   float64\n",
      " 11  p3_dog              1971 non-null   object \n",
      " 12  breed               1971 non-null   object \n",
      " 13  conf_degree         1971 non-null   float64\n",
      " 14  timestamp           2097 non-null   object \n",
      " 15  source_x            2097 non-null   object \n",
      " 16  text                2097 non-null   object \n",
      " 17  expanded_urls       2094 non-null   object \n",
      " 18  rating_numerator    2097 non-null   int64  \n",
      " 19  rating_denominator  2097 non-null   int64  \n",
      " 20  name                2097 non-null   object \n",
      " 21  dog_stages          336 non-null    object \n",
      " 22  created_at          2097 non-null   object \n",
      " 23  id_str              2097 non-null   int64  \n",
      " 24  full_text           2097 non-null   object \n",
      " 25  source_y            2097 non-null   object \n",
      " 26  retweet_count       2097 non-null   int64  \n",
      " 27  favorite_count      2097 non-null   int64  \n",
      " 28  lang                2097 non-null   object \n",
      "dtypes: float64(5), int64(6), object(18)\n",
      "memory usage: 475.2+ KB\n"
     ]
    }
   ],
   "source": [
    "import pandas as pd\n",
    "df=pd.read_csv('twitter_master.csv')\n",
    "df.info()"
   ]
  },
  {
   "cell_type": "code",
   "execution_count": 100,
   "id": "d3774d3f",
   "metadata": {},
   "outputs": [
    {
     "data": {
      "text/html": [
       "<div>\n",
       "<style scoped>\n",
       "    .dataframe tbody tr th:only-of-type {\n",
       "        vertical-align: middle;\n",
       "    }\n",
       "\n",
       "    .dataframe tbody tr th {\n",
       "        vertical-align: top;\n",
       "    }\n",
       "\n",
       "    .dataframe thead th {\n",
       "        text-align: right;\n",
       "    }\n",
       "</style>\n",
       "<table border=\"1\" class=\"dataframe\">\n",
       "  <thead>\n",
       "    <tr style=\"text-align: right;\">\n",
       "      <th></th>\n",
       "      <th>tweet_id</th>\n",
       "      <th>jpg_url</th>\n",
       "      <th>img_num</th>\n",
       "      <th>p1</th>\n",
       "      <th>p1_conf</th>\n",
       "      <th>p1_dog</th>\n",
       "      <th>p2</th>\n",
       "      <th>p2_conf</th>\n",
       "      <th>p2_dog</th>\n",
       "      <th>p3</th>\n",
       "      <th>...</th>\n",
       "      <th>rating_denominator</th>\n",
       "      <th>name</th>\n",
       "      <th>dog_stages</th>\n",
       "      <th>created_at</th>\n",
       "      <th>id_str</th>\n",
       "      <th>full_text</th>\n",
       "      <th>source_y</th>\n",
       "      <th>retweet_count</th>\n",
       "      <th>favorite_count</th>\n",
       "      <th>lang</th>\n",
       "    </tr>\n",
       "  </thead>\n",
       "  <tbody>\n",
       "    <tr>\n",
       "      <th>1961</th>\n",
       "      <td>668528771708952576</td>\n",
       "      <td>https://pbs.twimg.com/media/CUcXXpxWUAAUJ__.jpg</td>\n",
       "      <td>1.0</td>\n",
       "      <td>Labrador_retriever</td>\n",
       "      <td>0.195835</td>\n",
       "      <td>True</td>\n",
       "      <td>kuvasz</td>\n",
       "      <td>0.121607</td>\n",
       "      <td>True</td>\n",
       "      <td>English_setter</td>\n",
       "      <td>...</td>\n",
       "      <td>10</td>\n",
       "      <td>Gòrdón</td>\n",
       "      <td>NaN</td>\n",
       "      <td>2015-11-22 20:37:34+00:00</td>\n",
       "      <td>668528771708952576</td>\n",
       "      <td>This is Gòrdón. He enjoys his razberrita by po...</td>\n",
       "      <td>Twitter for iPhone</td>\n",
       "      <td>242</td>\n",
       "      <td>496</td>\n",
       "      <td>English</td>\n",
       "    </tr>\n",
       "    <tr>\n",
       "      <th>671</th>\n",
       "      <td>761745352076779520</td>\n",
       "      <td>https://pbs.twimg.com/media/CpJDWqhW8AAFt45.jpg</td>\n",
       "      <td>1.0</td>\n",
       "      <td>paddle</td>\n",
       "      <td>0.393118</td>\n",
       "      <td>False</td>\n",
       "      <td>canoe</td>\n",
       "      <td>0.178088</td>\n",
       "      <td>False</td>\n",
       "      <td>lakeside</td>\n",
       "      <td>...</td>\n",
       "      <td>10</td>\n",
       "      <td>None</td>\n",
       "      <td>NaN</td>\n",
       "      <td>2016-08-06 02:06:59+00:00</td>\n",
       "      <td>761745352076779520</td>\n",
       "      <td>Guys.. we only rate dogs. Pls don't send any m...</td>\n",
       "      <td>Twitter for iPhone</td>\n",
       "      <td>979</td>\n",
       "      <td>4707</td>\n",
       "      <td>English</td>\n",
       "    </tr>\n",
       "    <tr>\n",
       "      <th>605</th>\n",
       "      <td>774314403806253056</td>\n",
       "      <td>https://pbs.twimg.com/media/Cr7q1VxWIAA5Nm7.jpg</td>\n",
       "      <td>3.0</td>\n",
       "      <td>Eskimo_dog</td>\n",
       "      <td>0.596045</td>\n",
       "      <td>True</td>\n",
       "      <td>Siberian_husky</td>\n",
       "      <td>0.223067</td>\n",
       "      <td>True</td>\n",
       "      <td>Saluki</td>\n",
       "      <td>...</td>\n",
       "      <td>10</td>\n",
       "      <td>None</td>\n",
       "      <td>NaN</td>\n",
       "      <td>2016-09-09 18:31:54+00:00</td>\n",
       "      <td>774314403806253056</td>\n",
       "      <td>I WAS SENT THE ACTUAL DOG IN THE PROFILE PIC B...</td>\n",
       "      <td>Twitter for iPhone</td>\n",
       "      <td>6478</td>\n",
       "      <td>24167</td>\n",
       "      <td>English</td>\n",
       "    </tr>\n",
       "    <tr>\n",
       "      <th>219</th>\n",
       "      <td>840696689258311684</td>\n",
       "      <td>https://pbs.twimg.com/media/C6rBLenU0AAr8MN.jpg</td>\n",
       "      <td>1.0</td>\n",
       "      <td>web_site</td>\n",
       "      <td>0.841768</td>\n",
       "      <td>False</td>\n",
       "      <td>rule</td>\n",
       "      <td>0.007087</td>\n",
       "      <td>False</td>\n",
       "      <td>envelope</td>\n",
       "      <td>...</td>\n",
       "      <td>10</td>\n",
       "      <td>None</td>\n",
       "      <td>NaN</td>\n",
       "      <td>2017-03-11 22:51:24+00:00</td>\n",
       "      <td>840696689258311680</td>\n",
       "      <td>I didn't even have to intervene. Took him 4 mi...</td>\n",
       "      <td>Twitter for iPhone</td>\n",
       "      <td>1116</td>\n",
       "      <td>13377</td>\n",
       "      <td>English</td>\n",
       "    </tr>\n",
       "    <tr>\n",
       "      <th>1682</th>\n",
       "      <td>674024893172875264</td>\n",
       "      <td>https://pbs.twimg.com/media/CVqeEKLW4AA1wXH.jpg</td>\n",
       "      <td>1.0</td>\n",
       "      <td>Pomeranian</td>\n",
       "      <td>0.648500</td>\n",
       "      <td>True</td>\n",
       "      <td>Pekinese</td>\n",
       "      <td>0.339835</td>\n",
       "      <td>True</td>\n",
       "      <td>Persian_cat</td>\n",
       "      <td>...</td>\n",
       "      <td>10</td>\n",
       "      <td>None</td>\n",
       "      <td>NaN</td>\n",
       "      <td>2015-12-08 00:37:11+00:00</td>\n",
       "      <td>674024893172875264</td>\n",
       "      <td>When you realize it doesn't matter how hard yo...</td>\n",
       "      <td>Twitter for iPhone</td>\n",
       "      <td>1360</td>\n",
       "      <td>1914</td>\n",
       "      <td>English</td>\n",
       "    </tr>\n",
       "  </tbody>\n",
       "</table>\n",
       "<p>5 rows × 29 columns</p>\n",
       "</div>"
      ],
      "text/plain": [
       "                tweet_id                                          jpg_url  \\\n",
       "1961  668528771708952576  https://pbs.twimg.com/media/CUcXXpxWUAAUJ__.jpg   \n",
       "671   761745352076779520  https://pbs.twimg.com/media/CpJDWqhW8AAFt45.jpg   \n",
       "605   774314403806253056  https://pbs.twimg.com/media/Cr7q1VxWIAA5Nm7.jpg   \n",
       "219   840696689258311684  https://pbs.twimg.com/media/C6rBLenU0AAr8MN.jpg   \n",
       "1682  674024893172875264  https://pbs.twimg.com/media/CVqeEKLW4AA1wXH.jpg   \n",
       "\n",
       "      img_num                  p1   p1_conf p1_dog              p2   p2_conf  \\\n",
       "1961      1.0  Labrador_retriever  0.195835   True          kuvasz  0.121607   \n",
       "671       1.0              paddle  0.393118  False           canoe  0.178088   \n",
       "605       3.0          Eskimo_dog  0.596045   True  Siberian_husky  0.223067   \n",
       "219       1.0            web_site  0.841768  False            rule  0.007087   \n",
       "1682      1.0          Pomeranian  0.648500   True        Pekinese  0.339835   \n",
       "\n",
       "     p2_dog              p3  ...  rating_denominator    name dog_stages  \\\n",
       "1961   True  English_setter  ...                  10  Gòrdón        NaN   \n",
       "671   False        lakeside  ...                  10    None        NaN   \n",
       "605    True          Saluki  ...                  10    None        NaN   \n",
       "219   False        envelope  ...                  10    None        NaN   \n",
       "1682   True     Persian_cat  ...                  10    None        NaN   \n",
       "\n",
       "                     created_at              id_str  \\\n",
       "1961  2015-11-22 20:37:34+00:00  668528771708952576   \n",
       "671   2016-08-06 02:06:59+00:00  761745352076779520   \n",
       "605   2016-09-09 18:31:54+00:00  774314403806253056   \n",
       "219   2017-03-11 22:51:24+00:00  840696689258311680   \n",
       "1682  2015-12-08 00:37:11+00:00  674024893172875264   \n",
       "\n",
       "                                              full_text            source_y  \\\n",
       "1961  This is Gòrdón. He enjoys his razberrita by po...  Twitter for iPhone   \n",
       "671   Guys.. we only rate dogs. Pls don't send any m...  Twitter for iPhone   \n",
       "605   I WAS SENT THE ACTUAL DOG IN THE PROFILE PIC B...  Twitter for iPhone   \n",
       "219   I didn't even have to intervene. Took him 4 mi...  Twitter for iPhone   \n",
       "1682  When you realize it doesn't matter how hard yo...  Twitter for iPhone   \n",
       "\n",
       "     retweet_count  favorite_count     lang  \n",
       "1961           242             496  English  \n",
       "671            979            4707  English  \n",
       "605           6478           24167  English  \n",
       "219           1116           13377  English  \n",
       "1682          1360            1914  English  \n",
       "\n",
       "[5 rows x 29 columns]"
      ]
     },
     "execution_count": 100,
     "metadata": {},
     "output_type": "execute_result"
    }
   ],
   "source": [
    "#let's go through our dataset and visualise/assess its columns\n",
    "df.sample(5)"
   ]
  },
  {
   "cell_type": "code",
   "execution_count": 101,
   "id": "3c0c042e",
   "metadata": {},
   "outputs": [
    {
     "data": {
      "text/plain": [
       "132810"
      ]
     },
     "execution_count": 101,
     "metadata": {},
     "output_type": "execute_result"
    }
   ],
   "source": [
    "df.favorite_count.max()"
   ]
  },
  {
   "cell_type": "code",
   "execution_count": 102,
   "id": "10ffa010",
   "metadata": {},
   "outputs": [
    {
     "data": {
      "text/html": [
       "<div>\n",
       "<style scoped>\n",
       "    .dataframe tbody tr th:only-of-type {\n",
       "        vertical-align: middle;\n",
       "    }\n",
       "\n",
       "    .dataframe tbody tr th {\n",
       "        vertical-align: top;\n",
       "    }\n",
       "\n",
       "    .dataframe thead th {\n",
       "        text-align: right;\n",
       "    }\n",
       "</style>\n",
       "<table border=\"1\" class=\"dataframe\">\n",
       "  <thead>\n",
       "    <tr style=\"text-align: right;\">\n",
       "      <th></th>\n",
       "      <th>tweet_id</th>\n",
       "      <th>jpg_url</th>\n",
       "      <th>img_num</th>\n",
       "      <th>p1</th>\n",
       "      <th>p1_conf</th>\n",
       "      <th>p1_dog</th>\n",
       "      <th>p2</th>\n",
       "      <th>p2_conf</th>\n",
       "      <th>p2_dog</th>\n",
       "      <th>p3</th>\n",
       "      <th>...</th>\n",
       "      <th>rating_denominator</th>\n",
       "      <th>name</th>\n",
       "      <th>dog_stages</th>\n",
       "      <th>created_at</th>\n",
       "      <th>id_str</th>\n",
       "      <th>full_text</th>\n",
       "      <th>source_y</th>\n",
       "      <th>retweet_count</th>\n",
       "      <th>favorite_count</th>\n",
       "      <th>lang</th>\n",
       "    </tr>\n",
       "  </thead>\n",
       "  <tbody>\n",
       "    <tr>\n",
       "      <th>325</th>\n",
       "      <td>822872901745569793</td>\n",
       "      <td>https://pbs.twimg.com/media/C2tugXLXgAArJO4.jpg</td>\n",
       "      <td>1.0</td>\n",
       "      <td>Lakeland_terrier</td>\n",
       "      <td>0.196015</td>\n",
       "      <td>True</td>\n",
       "      <td>Labrador_retriever</td>\n",
       "      <td>0.160329</td>\n",
       "      <td>True</td>\n",
       "      <td>Irish_terrier</td>\n",
       "      <td>...</td>\n",
       "      <td>10</td>\n",
       "      <td>None</td>\n",
       "      <td>puppo</td>\n",
       "      <td>2017-01-21 18:26:02+00:00</td>\n",
       "      <td>822872901745569792</td>\n",
       "      <td>Here's a super supportive puppo participating ...</td>\n",
       "      <td>Twitter for iPhone</td>\n",
       "      <td>48265</td>\n",
       "      <td>132810</td>\n",
       "      <td>English</td>\n",
       "    </tr>\n",
       "  </tbody>\n",
       "</table>\n",
       "<p>1 rows × 29 columns</p>\n",
       "</div>"
      ],
      "text/plain": [
       "               tweet_id                                          jpg_url  \\\n",
       "325  822872901745569793  https://pbs.twimg.com/media/C2tugXLXgAArJO4.jpg   \n",
       "\n",
       "     img_num                p1   p1_conf p1_dog                  p2   p2_conf  \\\n",
       "325      1.0  Lakeland_terrier  0.196015   True  Labrador_retriever  0.160329   \n",
       "\n",
       "    p2_dog             p3  ...  rating_denominator  name dog_stages  \\\n",
       "325   True  Irish_terrier  ...                  10  None      puppo   \n",
       "\n",
       "                    created_at              id_str  \\\n",
       "325  2017-01-21 18:26:02+00:00  822872901745569792   \n",
       "\n",
       "                                             full_text            source_y  \\\n",
       "325  Here's a super supportive puppo participating ...  Twitter for iPhone   \n",
       "\n",
       "    retweet_count  favorite_count     lang  \n",
       "325         48265          132810  English  \n",
       "\n",
       "[1 rows x 29 columns]"
      ]
     },
     "execution_count": 102,
     "metadata": {},
     "output_type": "execute_result"
    }
   ],
   "source": [
    "df.query('favorite_count == 132810')"
   ]
  },
  {
   "cell_type": "code",
   "execution_count": 103,
   "id": "71c2a5f1",
   "metadata": {},
   "outputs": [
    {
     "data": {
      "text/html": [
       "<div>\n",
       "<style scoped>\n",
       "    .dataframe tbody tr th:only-of-type {\n",
       "        vertical-align: middle;\n",
       "    }\n",
       "\n",
       "    .dataframe tbody tr th {\n",
       "        vertical-align: top;\n",
       "    }\n",
       "\n",
       "    .dataframe thead th {\n",
       "        text-align: right;\n",
       "    }\n",
       "</style>\n",
       "<table border=\"1\" class=\"dataframe\">\n",
       "  <thead>\n",
       "    <tr style=\"text-align: right;\">\n",
       "      <th></th>\n",
       "      <th>tweet_id</th>\n",
       "      <th>img_num</th>\n",
       "      <th>p1_conf</th>\n",
       "      <th>p2_conf</th>\n",
       "      <th>p3_conf</th>\n",
       "      <th>conf_degree</th>\n",
       "      <th>rating_numerator</th>\n",
       "      <th>rating_denominator</th>\n",
       "      <th>id_str</th>\n",
       "      <th>retweet_count</th>\n",
       "      <th>favorite_count</th>\n",
       "    </tr>\n",
       "  </thead>\n",
       "  <tbody>\n",
       "    <tr>\n",
       "      <th>count</th>\n",
       "      <td>2.097000e+03</td>\n",
       "      <td>1971.000000</td>\n",
       "      <td>1971.000000</td>\n",
       "      <td>1.971000e+03</td>\n",
       "      <td>1.971000e+03</td>\n",
       "      <td>1971.000000</td>\n",
       "      <td>2097.000000</td>\n",
       "      <td>2097.000000</td>\n",
       "      <td>2.097000e+03</td>\n",
       "      <td>2097.000000</td>\n",
       "      <td>2097.000000</td>\n",
       "    </tr>\n",
       "    <tr>\n",
       "      <th>mean</th>\n",
       "      <td>7.365594e+17</td>\n",
       "      <td>1.201928</td>\n",
       "      <td>0.594558</td>\n",
       "      <td>1.345850e-01</td>\n",
       "      <td>6.016556e-02</td>\n",
       "      <td>0.466219</td>\n",
       "      <td>12.189318</td>\n",
       "      <td>10.448736</td>\n",
       "      <td>7.365594e+17</td>\n",
       "      <td>2841.667620</td>\n",
       "      <td>8980.902241</td>\n",
       "    </tr>\n",
       "    <tr>\n",
       "      <th>std</th>\n",
       "      <td>6.710178e+16</td>\n",
       "      <td>0.559020</td>\n",
       "      <td>0.272126</td>\n",
       "      <td>1.010527e-01</td>\n",
       "      <td>5.094156e-02</td>\n",
       "      <td>0.339608</td>\n",
       "      <td>40.364996</td>\n",
       "      <td>6.645061</td>\n",
       "      <td>6.710178e+16</td>\n",
       "      <td>4709.238203</td>\n",
       "      <td>12199.636684</td>\n",
       "    </tr>\n",
       "    <tr>\n",
       "      <th>min</th>\n",
       "      <td>6.660209e+17</td>\n",
       "      <td>1.000000</td>\n",
       "      <td>0.044333</td>\n",
       "      <td>1.011300e-08</td>\n",
       "      <td>1.740170e-10</td>\n",
       "      <td>0.000000</td>\n",
       "      <td>0.000000</td>\n",
       "      <td>2.000000</td>\n",
       "      <td>6.660209e+17</td>\n",
       "      <td>16.000000</td>\n",
       "      <td>81.000000</td>\n",
       "    </tr>\n",
       "    <tr>\n",
       "      <th>25%</th>\n",
       "      <td>6.768197e+17</td>\n",
       "      <td>1.000000</td>\n",
       "      <td>0.363091</td>\n",
       "      <td>5.339800e-02</td>\n",
       "      <td>1.608055e-02</td>\n",
       "      <td>0.140969</td>\n",
       "      <td>10.000000</td>\n",
       "      <td>10.000000</td>\n",
       "      <td>6.768197e+17</td>\n",
       "      <td>644.000000</td>\n",
       "      <td>2046.000000</td>\n",
       "    </tr>\n",
       "    <tr>\n",
       "      <th>50%</th>\n",
       "      <td>7.098528e+17</td>\n",
       "      <td>1.000000</td>\n",
       "      <td>0.587764</td>\n",
       "      <td>1.173970e-01</td>\n",
       "      <td>4.944380e-02</td>\n",
       "      <td>0.461076</td>\n",
       "      <td>11.000000</td>\n",
       "      <td>10.000000</td>\n",
       "      <td>7.098528e+17</td>\n",
       "      <td>1405.000000</td>\n",
       "      <td>4196.000000</td>\n",
       "    </tr>\n",
       "    <tr>\n",
       "      <th>75%</th>\n",
       "      <td>7.877176e+17</td>\n",
       "      <td>1.000000</td>\n",
       "      <td>0.847827</td>\n",
       "      <td>1.955655e-01</td>\n",
       "      <td>9.153815e-02</td>\n",
       "      <td>0.777087</td>\n",
       "      <td>12.000000</td>\n",
       "      <td>10.000000</td>\n",
       "      <td>7.877176e+17</td>\n",
       "      <td>3285.000000</td>\n",
       "      <td>11416.000000</td>\n",
       "    </tr>\n",
       "    <tr>\n",
       "      <th>max</th>\n",
       "      <td>8.924206e+17</td>\n",
       "      <td>4.000000</td>\n",
       "      <td>1.000000</td>\n",
       "      <td>4.880140e-01</td>\n",
       "      <td>2.734190e-01</td>\n",
       "      <td>0.999956</td>\n",
       "      <td>1776.000000</td>\n",
       "      <td>170.000000</td>\n",
       "      <td>8.924206e+17</td>\n",
       "      <td>79515.000000</td>\n",
       "      <td>132810.000000</td>\n",
       "    </tr>\n",
       "  </tbody>\n",
       "</table>\n",
       "</div>"
      ],
      "text/plain": [
       "           tweet_id      img_num      p1_conf       p2_conf       p3_conf  \\\n",
       "count  2.097000e+03  1971.000000  1971.000000  1.971000e+03  1.971000e+03   \n",
       "mean   7.365594e+17     1.201928     0.594558  1.345850e-01  6.016556e-02   \n",
       "std    6.710178e+16     0.559020     0.272126  1.010527e-01  5.094156e-02   \n",
       "min    6.660209e+17     1.000000     0.044333  1.011300e-08  1.740170e-10   \n",
       "25%    6.768197e+17     1.000000     0.363091  5.339800e-02  1.608055e-02   \n",
       "50%    7.098528e+17     1.000000     0.587764  1.173970e-01  4.944380e-02   \n",
       "75%    7.877176e+17     1.000000     0.847827  1.955655e-01  9.153815e-02   \n",
       "max    8.924206e+17     4.000000     1.000000  4.880140e-01  2.734190e-01   \n",
       "\n",
       "       conf_degree  rating_numerator  rating_denominator        id_str  \\\n",
       "count  1971.000000       2097.000000         2097.000000  2.097000e+03   \n",
       "mean      0.466219         12.189318           10.448736  7.365594e+17   \n",
       "std       0.339608         40.364996            6.645061  6.710178e+16   \n",
       "min       0.000000          0.000000            2.000000  6.660209e+17   \n",
       "25%       0.140969         10.000000           10.000000  6.768197e+17   \n",
       "50%       0.461076         11.000000           10.000000  7.098528e+17   \n",
       "75%       0.777087         12.000000           10.000000  7.877176e+17   \n",
       "max       0.999956       1776.000000          170.000000  8.924206e+17   \n",
       "\n",
       "       retweet_count  favorite_count  \n",
       "count    2097.000000     2097.000000  \n",
       "mean     2841.667620     8980.902241  \n",
       "std      4709.238203    12199.636684  \n",
       "min        16.000000       81.000000  \n",
       "25%       644.000000     2046.000000  \n",
       "50%      1405.000000     4196.000000  \n",
       "75%      3285.000000    11416.000000  \n",
       "max     79515.000000   132810.000000  "
      ]
     },
     "execution_count": 103,
     "metadata": {},
     "output_type": "execute_result"
    }
   ],
   "source": [
    "df.describe()"
   ]
  },
  {
   "cell_type": "markdown",
   "id": "a0b0ede5",
   "metadata": {},
   "source": [
    "### What language do most users on this site use?"
   ]
  },
  {
   "cell_type": "code",
   "execution_count": 104,
   "id": "4c43f4e8",
   "metadata": {},
   "outputs": [
    {
     "data": {
      "text/plain": [
       "English         2089\n",
       "Dutch              3\n",
       "Indian             2\n",
       "Undetermined       1\n",
       "Basque             1\n",
       "Etruscan           1\n",
       "Name: lang, dtype: int64"
      ]
     },
     "execution_count": 104,
     "metadata": {},
     "output_type": "execute_result"
    }
   ],
   "source": [
    "df['lang'].value_counts()"
   ]
  },
  {
   "cell_type": "markdown",
   "id": "e5ebbb27",
   "metadata": {},
   "source": [
    "### Which source did most users tweet from?"
   ]
  },
  {
   "cell_type": "code",
   "execution_count": 105,
   "id": "e94f8e30",
   "metadata": {},
   "outputs": [
    {
     "data": {
      "text/plain": [
       "Text(0.5, 1.0, 'Tweet source counts')"
      ]
     },
     "execution_count": 105,
     "metadata": {},
     "output_type": "execute_result"
    },
    {
     "data": {
      "image/png": "[encoded data removed]",
      "text/plain": [
       "<Figure size 640x480 with 1 Axes>"
      ]
     },
     "metadata": {},
     "output_type": "display_data"
    }
   ],
   "source": [
    "import matplotlib.pyplot as plt\n",
    "%matplotlib inline\n",
    "\n",
    "df['source_x'].value_counts().plot(kind='barh');\n",
    "plt.xlabel(\"Source Count\")\n",
    "plt.ylabel(\"Tweet source\")\n",
    "plt.title(\"Tweet source counts\")\n"
   ]
  },
  {
   "cell_type": "markdown",
   "id": "b2d8e6d7",
   "metadata": {},
   "source": [
    "### To which breed was attached the highest rating?"
   ]
  },
  {
   "cell_type": "code",
   "execution_count": 106,
   "id": "fc33d418",
   "metadata": {},
   "outputs": [
    {
     "name": "stderr",
     "output_type": "stream",
     "text": [
      "C:\\Users\\Daisy\\AppData\\Local\\Temp\\ipykernel_16716\\2809578203.py:2: FutureWarning: this method is deprecated in favour of `Styler.hide(axis='index')`\n",
      "  top_5[['breed','rating_numerator']].style.hide_index()\n"
     ]
    },
    {
     "data": {
      "text/html": [
       "<style type=\"text/css\">\n",
       "</style>\n",
       "<table id=\"T_9be5c\">\n",
       "  <thead>\n",
       "    <tr>\n",
       "      <th id=\"T_9be5c_level0_col0\" class=\"col_heading level0 col0\" >breed</th>\n",
       "      <th id=\"T_9be5c_level0_col1\" class=\"col_heading level0 col1\" >rating_numerator</th>\n",
       "    </tr>\n",
       "  </thead>\n",
       "  <tbody>\n",
       "    <tr>\n",
       "      <td id=\"T_9be5c_row0_col0\" class=\"data row0 col0\" >None</td>\n",
       "      <td id=\"T_9be5c_row0_col1\" class=\"data row0 col1\" >1776</td>\n",
       "    </tr>\n",
       "    <tr>\n",
       "      <td id=\"T_9be5c_row1_col0\" class=\"data row1 col0\" >None</td>\n",
       "      <td id=\"T_9be5c_row1_col1\" class=\"data row1 col1\" >420</td>\n",
       "    </tr>\n",
       "    <tr>\n",
       "      <td id=\"T_9be5c_row2_col0\" class=\"data row2 col0\" >None</td>\n",
       "      <td id=\"T_9be5c_row2_col1\" class=\"data row2 col1\" >204</td>\n",
       "    </tr>\n",
       "    <tr>\n",
       "      <td id=\"T_9be5c_row3_col0\" class=\"data row3 col0\" >Labrador_retriever</td>\n",
       "      <td id=\"T_9be5c_row3_col1\" class=\"data row3 col1\" >165</td>\n",
       "    </tr>\n",
       "    <tr>\n",
       "      <td id=\"T_9be5c_row4_col0\" class=\"data row4 col0\" >chow</td>\n",
       "      <td id=\"T_9be5c_row4_col1\" class=\"data row4 col1\" >144</td>\n",
       "    </tr>\n",
       "    <tr>\n",
       "      <td id=\"T_9be5c_row5_col0\" class=\"data row5 col0\" >soft-coated_wheaten_terrier</td>\n",
       "      <td id=\"T_9be5c_row5_col1\" class=\"data row5 col1\" >121</td>\n",
       "    </tr>\n",
       "    <tr>\n",
       "      <td id=\"T_9be5c_row6_col0\" class=\"data row6 col0\" >golden_retriever</td>\n",
       "      <td id=\"T_9be5c_row6_col1\" class=\"data row6 col1\" >99</td>\n",
       "    </tr>\n",
       "    <tr>\n",
       "      <td id=\"T_9be5c_row7_col0\" class=\"data row7 col0\" >Labrador_retriever</td>\n",
       "      <td id=\"T_9be5c_row7_col1\" class=\"data row7 col1\" >88</td>\n",
       "    </tr>\n",
       "    <tr>\n",
       "      <td id=\"T_9be5c_row8_col0\" class=\"data row8 col0\" >West_Highland_white_terrier</td>\n",
       "      <td id=\"T_9be5c_row8_col1\" class=\"data row8 col1\" >84</td>\n",
       "    </tr>\n",
       "    <tr>\n",
       "      <td id=\"T_9be5c_row9_col0\" class=\"data row9 col0\" >soft-coated_wheaten_terrier</td>\n",
       "      <td id=\"T_9be5c_row9_col1\" class=\"data row9 col1\" >80</td>\n",
       "    </tr>\n",
       "  </tbody>\n",
       "</table>\n"
      ],
      "text/plain": [
       "<pandas.io.formats.style.Styler at 0x20d4b2325e0>"
      ]
     },
     "execution_count": 106,
     "metadata": {},
     "output_type": "execute_result"
    }
   ],
   "source": [
    "top_5 = df.nlargest(10,'rating_numerator', keep='all')\n",
    "top_5[['breed','rating_numerator']].style.hide_index()"
   ]
  },
  {
   "cell_type": "markdown",
   "id": "3bcc1c29",
   "metadata": {},
   "source": [
    "Apparently, twitter users seem to love Labrador_retrievers and terriers!!!"
   ]
  },
  {
   "cell_type": "markdown",
   "id": "d7c828b9",
   "metadata": {},
   "source": [
    "### How accurate was our model in its predictions?"
   ]
  },
  {
   "cell_type": "code",
   "execution_count": 107,
   "id": "5d277171",
   "metadata": {},
   "outputs": [
    {
     "data": {
      "text/plain": [
       "count    1971.000000\n",
       "mean        0.466219\n",
       "std         0.339608\n",
       "min         0.000000\n",
       "25%         0.140969\n",
       "50%         0.461076\n",
       "75%         0.777087\n",
       "max         0.999956\n",
       "Name: conf_degree, dtype: float64"
      ]
     },
     "execution_count": 107,
     "metadata": {},
     "output_type": "execute_result"
    }
   ],
   "source": [
    "df['conf_degree'].describe()"
   ]
  },
  {
   "cell_type": "markdown",
   "id": "da09ce84",
   "metadata": {},
   "source": [
    "We can observe that though our standard deviation is lower than the mean, it is more than 0.5 of its value...relatively it could be considered large and can be seen as an indicator that our model is not performing optimally and further investigation could be beneficial."
   ]
  },
  {
   "cell_type": "code",
   "execution_count": null,
   "id": "e96ddcd0",
   "metadata": {},
   "outputs": [],
   "source": []
  },
  {
   "cell_type": "code",
   "execution_count": null,
   "id": "526e8019",
   "metadata": {},
   "outputs": [],
   "source": []
  },
  {
   "cell_type": "code",
   "execution_count": null,
   "id": "12eca6b7",
   "metadata": {},
   "outputs": [],
   "source": []
  },
  {
   "cell_type": "code",
   "execution_count": null,
   "id": "257389d1",
   "metadata": {},
   "outputs": [],
   "source": []
  },
  {
   "cell_type": "code",
   "execution_count": null,
   "id": "7fa0c950",
   "metadata": {},
   "outputs": [],
   "source": []
  }
 ],
 "metadata": {
  "kernelspec": {
   "display_name": "Python 3 (ipykernel)",
   "language": "python",
   "name": "python3"
  },
  "language_info": {
   "codemirror_mode": {
    "name": "ipython",
    "version": 3
   },
   "file_extension": ".py",
   "mimetype": "text/x-python",
   "name": "python",
   "nbconvert_exporter": "python",
   "pygments_lexer": "ipython3",
   "version": "3.9.13"
  }
 },
 "nbformat": 4,
 "nbformat_minor": 5
}
